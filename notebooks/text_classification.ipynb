{
 "cells": [
  {
   "cell_type": "code",
   "execution_count": null,
   "id": "8d1b32d3",
   "metadata": {},
   "outputs": [],
   "source": [
    "import pandas as pd\n",
    "from transformers import pipeline\n",
    "import torch\n",
    "from dotenv import load_dotenv\n",
    "import numpy as np\n",
    "load_dotenv()"
   ]
  },
  {
   "cell_type": "code",
   "execution_count": 4,
   "id": "73d217a7",
   "metadata": {},
   "outputs": [],
   "source": [
    "df = pd.read_csv('../data/cleaned_data_v2.csv')"
   ]
  },
  {
   "cell_type": "code",
   "execution_count": 5,
   "id": "71dceb20",
   "metadata": {},
   "outputs": [
    {
     "data": {
      "text/plain": [
       "0               Fiction\n",
       "1        Christian life\n",
       "2        Christian life\n",
       "3          Africa, East\n",
       "4     Adventure stories\n",
       "            ...        \n",
       "95     Juvenile Fiction\n",
       "96              Fiction\n",
       "97           Philosophy\n",
       "98              Fiction\n",
       "99             Religion\n",
       "Name: categories, Length: 100, dtype: object"
      ]
     },
     "execution_count": 5,
     "metadata": {},
     "output_type": "execute_result"
    }
   ],
   "source": [
    "df['categories'][:100]"
   ]
  },
  {
   "cell_type": "markdown",
   "id": "c75e845b",
   "metadata": {},
   "source": [
    "We can look at categories with 34 books or more (the most frequent categories)"
   ]
  },
  {
   "cell_type": "code",
   "execution_count": 6,
   "id": "a561ac29",
   "metadata": {},
   "outputs": [
    {
     "data": {
      "text/html": [
       "<div>\n",
       "<style scoped>\n",
       "    .dataframe tbody tr th:only-of-type {\n",
       "        vertical-align: middle;\n",
       "    }\n",
       "\n",
       "    .dataframe tbody tr th {\n",
       "        vertical-align: top;\n",
       "    }\n",
       "\n",
       "    .dataframe thead th {\n",
       "        text-align: right;\n",
       "    }\n",
       "</style>\n",
       "<table border=\"1\" class=\"dataframe\">\n",
       "  <thead>\n",
       "    <tr style=\"text-align: right;\">\n",
       "      <th></th>\n",
       "      <th>categories</th>\n",
       "      <th>count</th>\n",
       "    </tr>\n",
       "  </thead>\n",
       "  <tbody>\n",
       "    <tr>\n",
       "      <th>0</th>\n",
       "      <td>Fiction</td>\n",
       "      <td>1681</td>\n",
       "    </tr>\n",
       "    <tr>\n",
       "      <th>1</th>\n",
       "      <td>Juvenile Fiction</td>\n",
       "      <td>337</td>\n",
       "    </tr>\n",
       "    <tr>\n",
       "      <th>2</th>\n",
       "      <td>Biography &amp; Autobiography</td>\n",
       "      <td>232</td>\n",
       "    </tr>\n",
       "    <tr>\n",
       "      <th>3</th>\n",
       "      <td>History</td>\n",
       "      <td>134</td>\n",
       "    </tr>\n",
       "    <tr>\n",
       "      <th>4</th>\n",
       "      <td>Comics &amp; Graphic Novels</td>\n",
       "      <td>86</td>\n",
       "    </tr>\n",
       "    <tr>\n",
       "      <th>5</th>\n",
       "      <td>Religion</td>\n",
       "      <td>80</td>\n",
       "    </tr>\n",
       "    <tr>\n",
       "      <th>6</th>\n",
       "      <td>Philosophy</td>\n",
       "      <td>70</td>\n",
       "    </tr>\n",
       "    <tr>\n",
       "      <th>7</th>\n",
       "      <td>Literary Criticism</td>\n",
       "      <td>66</td>\n",
       "    </tr>\n",
       "    <tr>\n",
       "      <th>8</th>\n",
       "      <td>Drama</td>\n",
       "      <td>65</td>\n",
       "    </tr>\n",
       "    <tr>\n",
       "      <th>9</th>\n",
       "      <td>Juvenile Nonfiction</td>\n",
       "      <td>46</td>\n",
       "    </tr>\n",
       "    <tr>\n",
       "      <th>10</th>\n",
       "      <td>Science</td>\n",
       "      <td>38</td>\n",
       "    </tr>\n",
       "    <tr>\n",
       "      <th>11</th>\n",
       "      <td>Poetry</td>\n",
       "      <td>34</td>\n",
       "    </tr>\n",
       "  </tbody>\n",
       "</table>\n",
       "</div>"
      ],
      "text/plain": [
       "                   categories  count\n",
       "0                     Fiction   1681\n",
       "1            Juvenile Fiction    337\n",
       "2   Biography & Autobiography    232\n",
       "3                     History    134\n",
       "4     Comics & Graphic Novels     86\n",
       "5                    Religion     80\n",
       "6                  Philosophy     70\n",
       "7          Literary Criticism     66\n",
       "8                       Drama     65\n",
       "9         Juvenile Nonfiction     46\n",
       "10                    Science     38\n",
       "11                     Poetry     34"
      ]
     },
     "execution_count": 6,
     "metadata": {},
     "output_type": "execute_result"
    }
   ],
   "source": [
    "df['categories'].value_counts().reset_index().query('count >= 34')"
   ]
  },
  {
   "cell_type": "markdown",
   "id": "8f1db319",
   "metadata": {},
   "source": [
    "We will narrow down these frequent categories into a smaller meaningful subset "
   ]
  },
  {
   "cell_type": "code",
   "execution_count": 7,
   "id": "07b01b80",
   "metadata": {},
   "outputs": [],
   "source": [
    "category_mapping = {\n",
    " 'Fiction' : \"Fiction\",\n",
    " 'Juvenile Fiction': \"Children's Fiction\",\n",
    " 'Biography & Autobiography': \"Nonfiction\",\n",
    " 'History': \"Nonfiction\",\n",
    " 'Literary Criticism': \"Nonfiction\",\n",
    " 'Philosophy': \"Nonfiction\",\n",
    " 'Religion': \"Nonfiction\",\n",
    " 'Comics & Graphic Novels': \"Fiction\",\n",
    " 'Drama': \"Fiction\",\n",
    " 'Juvenile Nonfiction': \"Children's Nonfiction\",\n",
    " 'Science': \"Nonfiction\",\n",
    " 'Poetry': \"Fiction\"\n",
    " }"
   ]
  },
  {
   "cell_type": "code",
   "execution_count": 8,
   "id": "40a5c682",
   "metadata": {},
   "outputs": [],
   "source": [
    "df['simple_categories'] = df['categories'].map(category_mapping)"
   ]
  },
  {
   "cell_type": "code",
   "execution_count": 9,
   "id": "232d3f95",
   "metadata": {},
   "outputs": [
    {
     "data": {
      "text/html": [
       "<div>\n",
       "<style scoped>\n",
       "    .dataframe tbody tr th:only-of-type {\n",
       "        vertical-align: middle;\n",
       "    }\n",
       "\n",
       "    .dataframe tbody tr th {\n",
       "        vertical-align: top;\n",
       "    }\n",
       "\n",
       "    .dataframe thead th {\n",
       "        text-align: right;\n",
       "    }\n",
       "</style>\n",
       "<table border=\"1\" class=\"dataframe\">\n",
       "  <thead>\n",
       "    <tr style=\"text-align: right;\">\n",
       "      <th></th>\n",
       "      <th>isbn13</th>\n",
       "      <th>isbn10</th>\n",
       "      <th>title</th>\n",
       "      <th>subtitle</th>\n",
       "      <th>authors</th>\n",
       "      <th>categories</th>\n",
       "      <th>thumbnail</th>\n",
       "      <th>description</th>\n",
       "      <th>published_year</th>\n",
       "      <th>average_rating</th>\n",
       "      <th>num_pages</th>\n",
       "      <th>ratings_count</th>\n",
       "      <th>missing_description</th>\n",
       "      <th>age_of_book</th>\n",
       "      <th>words_in_description</th>\n",
       "      <th>title_and_subtitle</th>\n",
       "      <th>tagged_description</th>\n",
       "      <th>simple_categories</th>\n",
       "    </tr>\n",
       "  </thead>\n",
       "  <tbody>\n",
       "    <tr>\n",
       "      <th>0</th>\n",
       "      <td>9780006178736</td>\n",
       "      <td>0006178731</td>\n",
       "      <td>Rage of angels</td>\n",
       "      <td>NaN</td>\n",
       "      <td>Sidney Sheldon</td>\n",
       "      <td>Fiction</td>\n",
       "      <td>http://books.google.com/books/content?id=FKo2T...</td>\n",
       "      <td>A memorable, mesmerizing heroine Jennifer -- b...</td>\n",
       "      <td>1993.0</td>\n",
       "      <td>3.93</td>\n",
       "      <td>512.0</td>\n",
       "      <td>29532.0</td>\n",
       "      <td>0</td>\n",
       "      <td>32.0</td>\n",
       "      <td>57</td>\n",
       "      <td>Rage of angels</td>\n",
       "      <td>9780006178736 A memorable, mesmerizing heroine...</td>\n",
       "      <td>Fiction</td>\n",
       "    </tr>\n",
       "    <tr>\n",
       "      <th>1</th>\n",
       "      <td>9780006280897</td>\n",
       "      <td>0006280897</td>\n",
       "      <td>The Four Loves</td>\n",
       "      <td>NaN</td>\n",
       "      <td>Clive Staples Lewis</td>\n",
       "      <td>Christian life</td>\n",
       "      <td>http://books.google.com/books/content?id=XhQ5X...</td>\n",
       "      <td>Lewis' work on the nature of love divides love...</td>\n",
       "      <td>2002.0</td>\n",
       "      <td>4.15</td>\n",
       "      <td>170.0</td>\n",
       "      <td>33684.0</td>\n",
       "      <td>0</td>\n",
       "      <td>23.0</td>\n",
       "      <td>45</td>\n",
       "      <td>The Four Loves</td>\n",
       "      <td>9780006280897 Lewis' work on the nature of lov...</td>\n",
       "      <td>NaN</td>\n",
       "    </tr>\n",
       "    <tr>\n",
       "      <th>2</th>\n",
       "      <td>9780006280934</td>\n",
       "      <td>0006280935</td>\n",
       "      <td>The Problem of Pain</td>\n",
       "      <td>NaN</td>\n",
       "      <td>Clive Staples Lewis</td>\n",
       "      <td>Christian life</td>\n",
       "      <td>http://books.google.com/books/content?id=Kk-uV...</td>\n",
       "      <td>\"In The Problem of Pain, C.S. Lewis, one of th...</td>\n",
       "      <td>2002.0</td>\n",
       "      <td>4.09</td>\n",
       "      <td>176.0</td>\n",
       "      <td>37569.0</td>\n",
       "      <td>0</td>\n",
       "      <td>23.0</td>\n",
       "      <td>75</td>\n",
       "      <td>The Problem of Pain</td>\n",
       "      <td>9780006280934 \"In The Problem of Pain, C.S. Le...</td>\n",
       "      <td>NaN</td>\n",
       "    </tr>\n",
       "    <tr>\n",
       "      <th>3</th>\n",
       "      <td>9780006380832</td>\n",
       "      <td>0006380832</td>\n",
       "      <td>Empires of the Monsoon</td>\n",
       "      <td>A History of the Indian Ocean and Its Invaders</td>\n",
       "      <td>Richard Hall</td>\n",
       "      <td>Africa, East</td>\n",
       "      <td>http://books.google.com/books/content?id=MuPEQ...</td>\n",
       "      <td>Until Vasco da Gama discovered the sea-route t...</td>\n",
       "      <td>1998.0</td>\n",
       "      <td>4.41</td>\n",
       "      <td>608.0</td>\n",
       "      <td>65.0</td>\n",
       "      <td>0</td>\n",
       "      <td>27.0</td>\n",
       "      <td>80</td>\n",
       "      <td>Empires of the Monsoon: A History of the India...</td>\n",
       "      <td>9780006380832 Until Vasco da Gama discovered t...</td>\n",
       "      <td>NaN</td>\n",
       "    </tr>\n",
       "    <tr>\n",
       "      <th>4</th>\n",
       "      <td>9780006472612</td>\n",
       "      <td>0006472613</td>\n",
       "      <td>Master of the Game</td>\n",
       "      <td>NaN</td>\n",
       "      <td>Sidney Sheldon</td>\n",
       "      <td>Adventure stories</td>\n",
       "      <td>http://books.google.com/books/content?id=TkTYp...</td>\n",
       "      <td>Kate Blackwell is an enigma and one of the mos...</td>\n",
       "      <td>1982.0</td>\n",
       "      <td>4.11</td>\n",
       "      <td>489.0</td>\n",
       "      <td>43540.0</td>\n",
       "      <td>0</td>\n",
       "      <td>43.0</td>\n",
       "      <td>30</td>\n",
       "      <td>Master of the Game</td>\n",
       "      <td>9780006472612 Kate Blackwell is an enigma and ...</td>\n",
       "      <td>NaN</td>\n",
       "    </tr>\n",
       "  </tbody>\n",
       "</table>\n",
       "</div>"
      ],
      "text/plain": [
       "          isbn13      isbn10                   title  \\\n",
       "0  9780006178736  0006178731          Rage of angels   \n",
       "1  9780006280897  0006280897          The Four Loves   \n",
       "2  9780006280934  0006280935     The Problem of Pain   \n",
       "3  9780006380832  0006380832  Empires of the Monsoon   \n",
       "4  9780006472612  0006472613      Master of the Game   \n",
       "\n",
       "                                         subtitle              authors  \\\n",
       "0                                             NaN       Sidney Sheldon   \n",
       "1                                             NaN  Clive Staples Lewis   \n",
       "2                                             NaN  Clive Staples Lewis   \n",
       "3  A History of the Indian Ocean and Its Invaders         Richard Hall   \n",
       "4                                             NaN       Sidney Sheldon   \n",
       "\n",
       "          categories                                          thumbnail  \\\n",
       "0            Fiction  http://books.google.com/books/content?id=FKo2T...   \n",
       "1     Christian life  http://books.google.com/books/content?id=XhQ5X...   \n",
       "2     Christian life  http://books.google.com/books/content?id=Kk-uV...   \n",
       "3       Africa, East  http://books.google.com/books/content?id=MuPEQ...   \n",
       "4  Adventure stories  http://books.google.com/books/content?id=TkTYp...   \n",
       "\n",
       "                                         description  published_year  \\\n",
       "0  A memorable, mesmerizing heroine Jennifer -- b...          1993.0   \n",
       "1  Lewis' work on the nature of love divides love...          2002.0   \n",
       "2  \"In The Problem of Pain, C.S. Lewis, one of th...          2002.0   \n",
       "3  Until Vasco da Gama discovered the sea-route t...          1998.0   \n",
       "4  Kate Blackwell is an enigma and one of the mos...          1982.0   \n",
       "\n",
       "   average_rating  num_pages  ratings_count  missing_description  age_of_book  \\\n",
       "0            3.93      512.0        29532.0                    0         32.0   \n",
       "1            4.15      170.0        33684.0                    0         23.0   \n",
       "2            4.09      176.0        37569.0                    0         23.0   \n",
       "3            4.41      608.0           65.0                    0         27.0   \n",
       "4            4.11      489.0        43540.0                    0         43.0   \n",
       "\n",
       "   words_in_description                                 title_and_subtitle  \\\n",
       "0                    57                                     Rage of angels   \n",
       "1                    45                                     The Four Loves   \n",
       "2                    75                                The Problem of Pain   \n",
       "3                    80  Empires of the Monsoon: A History of the India...   \n",
       "4                    30                                 Master of the Game   \n",
       "\n",
       "                                  tagged_description simple_categories  \n",
       "0  9780006178736 A memorable, mesmerizing heroine...           Fiction  \n",
       "1  9780006280897 Lewis' work on the nature of lov...               NaN  \n",
       "2  9780006280934 \"In The Problem of Pain, C.S. Le...               NaN  \n",
       "3  9780006380832 Until Vasco da Gama discovered t...               NaN  \n",
       "4  9780006472612 Kate Blackwell is an enigma and ...               NaN  "
      ]
     },
     "execution_count": 9,
     "metadata": {},
     "output_type": "execute_result"
    }
   ],
   "source": [
    "df.head()"
   ]
  },
  {
   "cell_type": "code",
   "execution_count": 10,
   "id": "e0281271",
   "metadata": {},
   "outputs": [
    {
     "data": {
      "text/plain": [
       "(2869, 18)"
      ]
     },
     "execution_count": 10,
     "metadata": {},
     "output_type": "execute_result"
    }
   ],
   "source": [
    "df[~(df['simple_categories'].isna())].shape"
   ]
  },
  {
   "cell_type": "code",
   "execution_count": 11,
   "id": "30aa47ad",
   "metadata": {},
   "outputs": [
    {
     "name": "stdout",
     "output_type": "stream",
     "text": [
      "2.7.1+cpu\n"
     ]
    }
   ],
   "source": [
    "print(torch.__version__)"
   ]
  },
  {
   "cell_type": "markdown",
   "id": "5007a87f",
   "metadata": {},
   "source": [
    "We will use zero-shot text classification (using facebook bart pretrained model)"
   ]
  },
  {
   "cell_type": "code",
   "execution_count": 14,
   "id": "501d619e",
   "metadata": {},
   "outputs": [
    {
     "name": "stderr",
     "output_type": "stream",
     "text": [
      "Xet Storage is enabled for this repo, but the 'hf_xet' package is not installed. Falling back to regular HTTP download. For better performance, install the package with: `pip install huggingface_hub[hf_xet]` or `pip install hf_xet`\n"
     ]
    },
    {
     "data": {
      "application/vnd.jupyter.widget-view+json": {
       "model_id": "a8d840208383430884909bea759609c2",
       "version_major": 2,
       "version_minor": 0
      },
      "text/plain": [
       "model.safetensors:   0%|          | 0.00/1.63G [00:00<?, ?B/s]"
      ]
     },
     "metadata": {},
     "output_type": "display_data"
    },
    {
     "name": "stderr",
     "output_type": "stream",
     "text": [
      "c:\\Users\\ghass\\.virtualenvs\\semantic_book_recommender-l1UIAdvL\\lib\\site-packages\\huggingface_hub\\file_download.py:143: UserWarning: `huggingface_hub` cache-system uses symlinks by default to efficiently store duplicated files but your machine does not support them in C:\\Users\\ghass\\.cache\\huggingface\\hub\\models--facebook--bart-large-mnli. Caching files will still work but in a degraded version that might require more space on your disk. This warning can be disabled by setting the `HF_HUB_DISABLE_SYMLINKS_WARNING` environment variable. For more details, see https://huggingface.co/docs/huggingface_hub/how-to-cache#limitations.\n",
      "To support symlinks on Windows, you either need to activate Developer Mode or to run Python as an administrator. In order to activate developer mode, see this article: https://docs.microsoft.com/en-us/windows/apps/get-started/enable-your-device-for-development\n",
      "  warnings.warn(message)\n"
     ]
    },
    {
     "data": {
      "application/vnd.jupyter.widget-view+json": {
       "model_id": "9a7dad44f0304c0bbf8f3659a841b5c9",
       "version_major": 2,
       "version_minor": 0
      },
      "text/plain": [
       "tokenizer_config.json:   0%|          | 0.00/26.0 [00:00<?, ?B/s]"
      ]
     },
     "metadata": {},
     "output_type": "display_data"
    },
    {
     "data": {
      "application/vnd.jupyter.widget-view+json": {
       "model_id": "ffafd99bffb847a79d664cdec678af90",
       "version_major": 2,
       "version_minor": 0
      },
      "text/plain": [
       "vocab.json: 0.00B [00:00, ?B/s]"
      ]
     },
     "metadata": {},
     "output_type": "display_data"
    },
    {
     "data": {
      "application/vnd.jupyter.widget-view+json": {
       "model_id": "f11c7f4e9c0c4e3d85f8e52d24504bb9",
       "version_major": 2,
       "version_minor": 0
      },
      "text/plain": [
       "merges.txt: 0.00B [00:00, ?B/s]"
      ]
     },
     "metadata": {},
     "output_type": "display_data"
    },
    {
     "data": {
      "application/vnd.jupyter.widget-view+json": {
       "model_id": "6d01cfe68a584e16b988c34c443ae46e",
       "version_major": 2,
       "version_minor": 0
      },
      "text/plain": [
       "tokenizer.json: 0.00B [00:00, ?B/s]"
      ]
     },
     "metadata": {},
     "output_type": "display_data"
    },
    {
     "name": "stderr",
     "output_type": "stream",
     "text": [
      "Device set to use cpu\n"
     ]
    }
   ],
   "source": [
    "\n",
    "pipe = pipeline(\n",
    "    \"zero-shot-classification\",\n",
    "    model=\"facebook/bart-large-mnli\")"
   ]
  },
  {
   "cell_type": "code",
   "execution_count": 15,
   "id": "8474b0c3",
   "metadata": {},
   "outputs": [],
   "source": [
    "fiction_categories = ['Fiction','Nonfiction']"
   ]
  },
  {
   "cell_type": "code",
   "execution_count": 18,
   "id": "660d64b7",
   "metadata": {},
   "outputs": [],
   "source": [
    "sequence = df.loc[df['simple_categories'] == 'Fiction','description'].reset_index(drop=True)[0]"
   ]
  },
  {
   "cell_type": "code",
   "execution_count": 19,
   "id": "62badf41",
   "metadata": {},
   "outputs": [
    {
     "data": {
      "text/plain": [
       "{'sequence': \"A memorable, mesmerizing heroine Jennifer -- brilliant, beautiful, an attorney on the way up until the Mafia's schemes win her the hatred of an implacable enemy -- and a love more destructive than hate. A dangerous, dramatic world The Dark Arena of organized crime and flashbulb lit courtrooms where ambitious prosecutors begin their climb to political power.\",\n",
       " 'labels': ['Fiction', 'Nonfiction'],\n",
       " 'scores': [0.5055234432220459, 0.4944764971733093]}"
      ]
     },
     "execution_count": 19,
     "metadata": {},
     "output_type": "execute_result"
    }
   ],
   "source": [
    "pipe(sequence,fiction_categories)"
   ]
  },
  {
   "cell_type": "markdown",
   "id": "25dd012d",
   "metadata": {},
   "source": [
    "Now we can llok at the category with highest score/probability using np.argmax"
   ]
  },
  {
   "cell_type": "code",
   "execution_count": 21,
   "id": "609d0316",
   "metadata": {},
   "outputs": [],
   "source": [
    "max_index = np.argmax(pipe(sequence,fiction_categories)['scores'])\n",
    "max_label = pipe(sequence,fiction_categories)['labels'][max_index]"
   ]
  },
  {
   "cell_type": "code",
   "execution_count": 22,
   "id": "6f666a99",
   "metadata": {},
   "outputs": [
    {
     "data": {
      "text/plain": [
       "'Fiction'"
      ]
     },
     "execution_count": 22,
     "metadata": {},
     "output_type": "execute_result"
    }
   ],
   "source": [
    "max_label"
   ]
  },
  {
   "cell_type": "markdown",
   "id": "79821a72",
   "metadata": {},
   "source": [
    "We can now create a function that generates the most probable label(fiction or non fiction) based on given sequence"
   ]
  },
  {
   "cell_type": "code",
   "execution_count": 23,
   "id": "25ccde2c",
   "metadata": {},
   "outputs": [],
   "source": [
    "def generate_predictions(sequence,categories):\n",
    "    predictions = pipe(sequence,categories)\n",
    "    max_index = np.argmax(predictions['scores'])\n",
    "    max_label = predictions['labels'][max_index] \n",
    "    return max_label   "
   ]
  },
  {
   "cell_type": "markdown",
   "id": "b32c59d9",
   "metadata": {},
   "source": [
    "Checking Model accuracy"
   ]
  },
  {
   "cell_type": "code",
   "execution_count": 24,
   "id": "2eececbd",
   "metadata": {},
   "outputs": [
    {
     "name": "stderr",
     "output_type": "stream",
     "text": [
      "100%|██████████| 300/300 [04:32<00:00,  1.10it/s]\n"
     ]
    }
   ],
   "source": [
    "from tqdm import tqdm\n",
    "actual_cats = []\n",
    "predicted_cats = []\n",
    "\n",
    "for i in tqdm(range(0,300)):\n",
    "    sequence = df.loc[df['simple_categories'] == 'Fiction',\"description\"].reset_index(drop=True)\n",
    "    predicted_cats += [generate_predictions(sequence,fiction_categories)]\n",
    "    actual_cats += [\"Fiction\"]"
   ]
  },
  {
   "cell_type": "code",
   "execution_count": 25,
   "id": "56035253",
   "metadata": {},
   "outputs": [
    {
     "name": "stderr",
     "output_type": "stream",
     "text": [
      "100%|██████████| 300/300 [04:52<00:00,  1.03it/s]\n"
     ]
    }
   ],
   "source": [
    "for i in tqdm(range(0,300)):\n",
    "    sequence = df.loc[df['simple_categories'] == 'Nonfiction',\"description\"].reset_index(drop=True)\n",
    "    predicted_cats += [generate_predictions(sequence,fiction_categories)]\n",
    "    actual_cats += [\"Nonfiction\"]"
   ]
  },
  {
   "cell_type": "code",
   "execution_count": 26,
   "id": "42be7149",
   "metadata": {},
   "outputs": [
    {
     "data": {
      "text/html": [
       "<div>\n",
       "<style scoped>\n",
       "    .dataframe tbody tr th:only-of-type {\n",
       "        vertical-align: middle;\n",
       "    }\n",
       "\n",
       "    .dataframe tbody tr th {\n",
       "        vertical-align: top;\n",
       "    }\n",
       "\n",
       "    .dataframe thead th {\n",
       "        text-align: right;\n",
       "    }\n",
       "</style>\n",
       "<table border=\"1\" class=\"dataframe\">\n",
       "  <thead>\n",
       "    <tr style=\"text-align: right;\">\n",
       "      <th></th>\n",
       "      <th>actual_categories</th>\n",
       "      <th>predicted_categories</th>\n",
       "    </tr>\n",
       "  </thead>\n",
       "  <tbody>\n",
       "    <tr>\n",
       "      <th>0</th>\n",
       "      <td>Fiction</td>\n",
       "      <td>Fiction</td>\n",
       "    </tr>\n",
       "    <tr>\n",
       "      <th>1</th>\n",
       "      <td>Fiction</td>\n",
       "      <td>Fiction</td>\n",
       "    </tr>\n",
       "    <tr>\n",
       "      <th>2</th>\n",
       "      <td>Fiction</td>\n",
       "      <td>Fiction</td>\n",
       "    </tr>\n",
       "    <tr>\n",
       "      <th>3</th>\n",
       "      <td>Fiction</td>\n",
       "      <td>Fiction</td>\n",
       "    </tr>\n",
       "    <tr>\n",
       "      <th>4</th>\n",
       "      <td>Fiction</td>\n",
       "      <td>Fiction</td>\n",
       "    </tr>\n",
       "    <tr>\n",
       "      <th>...</th>\n",
       "      <td>...</td>\n",
       "      <td>...</td>\n",
       "    </tr>\n",
       "    <tr>\n",
       "      <th>595</th>\n",
       "      <td>Nonfiction</td>\n",
       "      <td>Nonfiction</td>\n",
       "    </tr>\n",
       "    <tr>\n",
       "      <th>596</th>\n",
       "      <td>Nonfiction</td>\n",
       "      <td>Nonfiction</td>\n",
       "    </tr>\n",
       "    <tr>\n",
       "      <th>597</th>\n",
       "      <td>Nonfiction</td>\n",
       "      <td>Nonfiction</td>\n",
       "    </tr>\n",
       "    <tr>\n",
       "      <th>598</th>\n",
       "      <td>Nonfiction</td>\n",
       "      <td>Nonfiction</td>\n",
       "    </tr>\n",
       "    <tr>\n",
       "      <th>599</th>\n",
       "      <td>Nonfiction</td>\n",
       "      <td>Nonfiction</td>\n",
       "    </tr>\n",
       "  </tbody>\n",
       "</table>\n",
       "<p>600 rows × 2 columns</p>\n",
       "</div>"
      ],
      "text/plain": [
       "    actual_categories predicted_categories\n",
       "0             Fiction              Fiction\n",
       "1             Fiction              Fiction\n",
       "2             Fiction              Fiction\n",
       "3             Fiction              Fiction\n",
       "4             Fiction              Fiction\n",
       "..                ...                  ...\n",
       "595        Nonfiction           Nonfiction\n",
       "596        Nonfiction           Nonfiction\n",
       "597        Nonfiction           Nonfiction\n",
       "598        Nonfiction           Nonfiction\n",
       "599        Nonfiction           Nonfiction\n",
       "\n",
       "[600 rows x 2 columns]"
      ]
     },
     "execution_count": 26,
     "metadata": {},
     "output_type": "execute_result"
    }
   ],
   "source": [
    "predictions_df = pd.DataFrame({\"actual_categories\":actual_cats,\"predicted_categories\":predicted_cats})\n",
    "predictions_df"
   ]
  },
  {
   "cell_type": "code",
   "execution_count": 27,
   "id": "afe66723",
   "metadata": {},
   "outputs": [],
   "source": [
    "predictions_df['correct_predictions'] = (\n",
    "    np.where(predictions_df['actual_categories'] == predictions_df['predicted_categories'],1,0)\n",
    ")"
   ]
  },
  {
   "cell_type": "code",
   "execution_count": 30,
   "id": "330d71c5",
   "metadata": {},
   "outputs": [
    {
     "data": {
      "text/plain": [
       "np.float64(1.0)"
      ]
     },
     "execution_count": 30,
     "metadata": {},
     "output_type": "execute_result"
    }
   ],
   "source": [
    "predictions_df['correct_predictions'].sum()/len(predictions_df)"
   ]
  },
  {
   "cell_type": "markdown",
   "id": "9492c249",
   "metadata": {},
   "source": [
    "Now we can use this model to predict the missing categories"
   ]
  },
  {
   "cell_type": "code",
   "execution_count": 50,
   "id": "bfa611b0",
   "metadata": {},
   "outputs": [
    {
     "data": {
      "text/plain": [
       "956"
      ]
     },
     "execution_count": 50,
     "metadata": {},
     "output_type": "execute_result"
    }
   ],
   "source": [
    "isbns = []\n",
    "predicted_cats = []\n",
    "\n",
    "missing_cats = df.loc[df['simple_categories'].isna(),[\"isbn13\",\"description\"]].reset_index(drop=True)\n",
    "len(missing_cats)"
   ]
  },
  {
   "cell_type": "code",
   "execution_count": 52,
   "id": "35ddbbd2",
   "metadata": {},
   "outputs": [
    {
     "name": "stderr",
     "output_type": "stream",
     "text": [
      "100%|██████████| 956/956 [20:58<00:00,  1.32s/it]\n"
     ]
    }
   ],
   "source": [
    "for i in tqdm(range(0,len(missing_cats))):\n",
    "    sequence = missing_cats['description'][i]\n",
    "    predicted_cats += [generate_predictions(sequence,fiction_categories)]\n",
    "    isbns += [missing_cats['isbn13'][i]]"
   ]
  },
  {
   "cell_type": "code",
   "execution_count": 53,
   "id": "9ac7525f",
   "metadata": {},
   "outputs": [
    {
     "data": {
      "text/plain": [
       "956"
      ]
     },
     "execution_count": 53,
     "metadata": {},
     "output_type": "execute_result"
    }
   ],
   "source": [
    "len(isbns)"
   ]
  },
  {
   "cell_type": "code",
   "execution_count": 54,
   "id": "7f071052",
   "metadata": {},
   "outputs": [
    {
     "data": {
      "text/plain": [
       "956"
      ]
     },
     "execution_count": 54,
     "metadata": {},
     "output_type": "execute_result"
    }
   ],
   "source": [
    "len(predicted_cats)"
   ]
  },
  {
   "cell_type": "code",
   "execution_count": 56,
   "id": "77f6d32d",
   "metadata": {},
   "outputs": [
    {
     "data": {
      "text/html": [
       "<div>\n",
       "<style scoped>\n",
       "    .dataframe tbody tr th:only-of-type {\n",
       "        vertical-align: middle;\n",
       "    }\n",
       "\n",
       "    .dataframe tbody tr th {\n",
       "        vertical-align: top;\n",
       "    }\n",
       "\n",
       "    .dataframe thead th {\n",
       "        text-align: right;\n",
       "    }\n",
       "</style>\n",
       "<table border=\"1\" class=\"dataframe\">\n",
       "  <thead>\n",
       "    <tr style=\"text-align: right;\">\n",
       "      <th></th>\n",
       "      <th>isbn13</th>\n",
       "      <th>predicted_categories</th>\n",
       "    </tr>\n",
       "  </thead>\n",
       "  <tbody>\n",
       "    <tr>\n",
       "      <th>0</th>\n",
       "      <td>9780006280897</td>\n",
       "      <td>Nonfiction</td>\n",
       "    </tr>\n",
       "    <tr>\n",
       "      <th>1</th>\n",
       "      <td>9780006280934</td>\n",
       "      <td>Nonfiction</td>\n",
       "    </tr>\n",
       "    <tr>\n",
       "      <th>2</th>\n",
       "      <td>9780006380832</td>\n",
       "      <td>Nonfiction</td>\n",
       "    </tr>\n",
       "    <tr>\n",
       "      <th>3</th>\n",
       "      <td>9780006472612</td>\n",
       "      <td>Nonfiction</td>\n",
       "    </tr>\n",
       "    <tr>\n",
       "      <th>4</th>\n",
       "      <td>9780006483014</td>\n",
       "      <td>Fiction</td>\n",
       "    </tr>\n",
       "    <tr>\n",
       "      <th>...</th>\n",
       "      <td>...</td>\n",
       "      <td>...</td>\n",
       "    </tr>\n",
       "    <tr>\n",
       "      <th>951</th>\n",
       "      <td>9784766113389</td>\n",
       "      <td>Fiction</td>\n",
       "    </tr>\n",
       "    <tr>\n",
       "      <th>952</th>\n",
       "      <td>9784770028037</td>\n",
       "      <td>Nonfiction</td>\n",
       "    </tr>\n",
       "    <tr>\n",
       "      <th>953</th>\n",
       "      <td>9788125026600</td>\n",
       "      <td>Nonfiction</td>\n",
       "    </tr>\n",
       "    <tr>\n",
       "      <th>954</th>\n",
       "      <td>9788171565641</td>\n",
       "      <td>Fiction</td>\n",
       "    </tr>\n",
       "    <tr>\n",
       "      <th>955</th>\n",
       "      <td>9788173031014</td>\n",
       "      <td>Nonfiction</td>\n",
       "    </tr>\n",
       "  </tbody>\n",
       "</table>\n",
       "<p>956 rows × 2 columns</p>\n",
       "</div>"
      ],
      "text/plain": [
       "            isbn13 predicted_categories\n",
       "0    9780006280897           Nonfiction\n",
       "1    9780006280934           Nonfiction\n",
       "2    9780006380832           Nonfiction\n",
       "3    9780006472612           Nonfiction\n",
       "4    9780006483014              Fiction\n",
       "..             ...                  ...\n",
       "951  9784766113389              Fiction\n",
       "952  9784770028037           Nonfiction\n",
       "953  9788125026600           Nonfiction\n",
       "954  9788171565641              Fiction\n",
       "955  9788173031014           Nonfiction\n",
       "\n",
       "[956 rows x 2 columns]"
      ]
     },
     "execution_count": 56,
     "metadata": {},
     "output_type": "execute_result"
    }
   ],
   "source": [
    "missing_predicted_df = pd.DataFrame({\"isbn13\":isbns,\"predicted_categories\":predicted_cats})\n",
    "missing_predicted_df"
   ]
  },
  {
   "cell_type": "markdown",
   "id": "631b6ce7",
   "metadata": {},
   "source": [
    "Last step will be merging the dataframes"
   ]
  },
  {
   "cell_type": "code",
   "execution_count": 57,
   "id": "cdb6f747",
   "metadata": {},
   "outputs": [],
   "source": [
    "df = pd.merge(df, missing_predicted_df, on=\"isbn13\", how=\"left\")\n",
    "df[\"simple_categories\"] = np.where(df[\"simple_categories\"].isna(), df[\"predicted_categories\"], df[\"simple_categories\"])\n",
    "df = df.drop(columns = [\"predicted_categories\"])"
   ]
  },
  {
   "cell_type": "code",
   "execution_count": 60,
   "id": "e3bf03d8",
   "metadata": {},
   "outputs": [
    {
     "data": {
      "text/plain": [
       "np.int64(0)"
      ]
     },
     "execution_count": 60,
     "metadata": {},
     "output_type": "execute_result"
    }
   ],
   "source": [
    "df['simple_categories'].isna().sum()"
   ]
  },
  {
   "cell_type": "markdown",
   "id": "bf523660",
   "metadata": {},
   "source": [
    "Saving the dataset"
   ]
  },
  {
   "cell_type": "code",
   "execution_count": 62,
   "id": "bb8b9ec7",
   "metadata": {},
   "outputs": [],
   "source": [
    "df.to_csv(\"../data/books_with_categories.csv\", index=False)"
   ]
  }
 ],
 "metadata": {
  "kernelspec": {
   "display_name": "semantic_book_recommender-l1UIAdvL",
   "language": "python",
   "name": "python3"
  },
  "language_info": {
   "codemirror_mode": {
    "name": "ipython",
    "version": 3
   },
   "file_extension": ".py",
   "mimetype": "text/x-python",
   "name": "python",
   "nbconvert_exporter": "python",
   "pygments_lexer": "ipython3",
   "version": "3.10.0"
  }
 },
 "nbformat": 4,
 "nbformat_minor": 5
}
