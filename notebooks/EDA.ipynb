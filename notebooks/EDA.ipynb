{
 "cells": [
  {
   "cell_type": "markdown",
   "id": "152e457d",
   "metadata": {},
   "source": [
    "Importing libraries"
   ]
  },
  {
   "cell_type": "code",
   "execution_count": 1,
   "id": "65e98f62",
   "metadata": {},
   "outputs": [],
   "source": [
    "import pandas as pd\n",
    "import seaborn as sns\n",
    "import matplotlib.pyplot as plt"
   ]
  },
  {
   "cell_type": "markdown",
   "id": "ce67d384",
   "metadata": {},
   "source": [
    "Loading Dataset"
   ]
  },
  {
   "cell_type": "code",
   "execution_count": 2,
   "id": "177aa0fb",
   "metadata": {},
   "outputs": [],
   "source": [
    "df = pd.read_csv('../data/books.csv')"
   ]
  },
  {
   "cell_type": "code",
   "execution_count": 3,
   "id": "d73f9a71",
   "metadata": {},
   "outputs": [
    {
     "data": {
      "text/plain": [
       "(6810, 12)"
      ]
     },
     "execution_count": 3,
     "metadata": {},
     "output_type": "execute_result"
    }
   ],
   "source": [
    "df.shape"
   ]
  },
  {
   "cell_type": "code",
   "execution_count": 4,
   "id": "ea1496c6",
   "metadata": {},
   "outputs": [
    {
     "data": {
      "text/html": [
       "<div>\n",
       "<style scoped>\n",
       "    .dataframe tbody tr th:only-of-type {\n",
       "        vertical-align: middle;\n",
       "    }\n",
       "\n",
       "    .dataframe tbody tr th {\n",
       "        vertical-align: top;\n",
       "    }\n",
       "\n",
       "    .dataframe thead th {\n",
       "        text-align: right;\n",
       "    }\n",
       "</style>\n",
       "<table border=\"1\" class=\"dataframe\">\n",
       "  <thead>\n",
       "    <tr style=\"text-align: right;\">\n",
       "      <th></th>\n",
       "      <th>isbn13</th>\n",
       "      <th>isbn10</th>\n",
       "      <th>title</th>\n",
       "      <th>subtitle</th>\n",
       "      <th>authors</th>\n",
       "      <th>categories</th>\n",
       "      <th>thumbnail</th>\n",
       "      <th>description</th>\n",
       "      <th>published_year</th>\n",
       "      <th>average_rating</th>\n",
       "      <th>num_pages</th>\n",
       "      <th>ratings_count</th>\n",
       "    </tr>\n",
       "  </thead>\n",
       "  <tbody>\n",
       "    <tr>\n",
       "      <th>0</th>\n",
       "      <td>9780002005883</td>\n",
       "      <td>0002005883</td>\n",
       "      <td>Gilead</td>\n",
       "      <td>NaN</td>\n",
       "      <td>Marilynne Robinson</td>\n",
       "      <td>Fiction</td>\n",
       "      <td>http://books.google.com/books/content?id=KQZCP...</td>\n",
       "      <td>A NOVEL THAT READERS and critics have been eag...</td>\n",
       "      <td>2004.0</td>\n",
       "      <td>3.85</td>\n",
       "      <td>247.0</td>\n",
       "      <td>361.0</td>\n",
       "    </tr>\n",
       "    <tr>\n",
       "      <th>1</th>\n",
       "      <td>9780002261982</td>\n",
       "      <td>0002261987</td>\n",
       "      <td>Spider's Web</td>\n",
       "      <td>A Novel</td>\n",
       "      <td>Charles Osborne;Agatha Christie</td>\n",
       "      <td>Detective and mystery stories</td>\n",
       "      <td>http://books.google.com/books/content?id=gA5GP...</td>\n",
       "      <td>A new 'Christie for Christmas' -- a full-lengt...</td>\n",
       "      <td>2000.0</td>\n",
       "      <td>3.83</td>\n",
       "      <td>241.0</td>\n",
       "      <td>5164.0</td>\n",
       "    </tr>\n",
       "    <tr>\n",
       "      <th>2</th>\n",
       "      <td>9780006163831</td>\n",
       "      <td>0006163831</td>\n",
       "      <td>The One Tree</td>\n",
       "      <td>NaN</td>\n",
       "      <td>Stephen R. Donaldson</td>\n",
       "      <td>American fiction</td>\n",
       "      <td>http://books.google.com/books/content?id=OmQaw...</td>\n",
       "      <td>Volume Two of Stephen Donaldson's acclaimed se...</td>\n",
       "      <td>1982.0</td>\n",
       "      <td>3.97</td>\n",
       "      <td>479.0</td>\n",
       "      <td>172.0</td>\n",
       "    </tr>\n",
       "    <tr>\n",
       "      <th>3</th>\n",
       "      <td>9780006178736</td>\n",
       "      <td>0006178731</td>\n",
       "      <td>Rage of angels</td>\n",
       "      <td>NaN</td>\n",
       "      <td>Sidney Sheldon</td>\n",
       "      <td>Fiction</td>\n",
       "      <td>http://books.google.com/books/content?id=FKo2T...</td>\n",
       "      <td>A memorable, mesmerizing heroine Jennifer -- b...</td>\n",
       "      <td>1993.0</td>\n",
       "      <td>3.93</td>\n",
       "      <td>512.0</td>\n",
       "      <td>29532.0</td>\n",
       "    </tr>\n",
       "    <tr>\n",
       "      <th>4</th>\n",
       "      <td>9780006280897</td>\n",
       "      <td>0006280897</td>\n",
       "      <td>The Four Loves</td>\n",
       "      <td>NaN</td>\n",
       "      <td>Clive Staples Lewis</td>\n",
       "      <td>Christian life</td>\n",
       "      <td>http://books.google.com/books/content?id=XhQ5X...</td>\n",
       "      <td>Lewis' work on the nature of love divides love...</td>\n",
       "      <td>2002.0</td>\n",
       "      <td>4.15</td>\n",
       "      <td>170.0</td>\n",
       "      <td>33684.0</td>\n",
       "    </tr>\n",
       "  </tbody>\n",
       "</table>\n",
       "</div>"
      ],
      "text/plain": [
       "          isbn13      isbn10           title subtitle  \\\n",
       "0  9780002005883  0002005883          Gilead      NaN   \n",
       "1  9780002261982  0002261987    Spider's Web  A Novel   \n",
       "2  9780006163831  0006163831    The One Tree      NaN   \n",
       "3  9780006178736  0006178731  Rage of angels      NaN   \n",
       "4  9780006280897  0006280897  The Four Loves      NaN   \n",
       "\n",
       "                           authors                     categories  \\\n",
       "0               Marilynne Robinson                        Fiction   \n",
       "1  Charles Osborne;Agatha Christie  Detective and mystery stories   \n",
       "2             Stephen R. Donaldson               American fiction   \n",
       "3                   Sidney Sheldon                        Fiction   \n",
       "4              Clive Staples Lewis                 Christian life   \n",
       "\n",
       "                                           thumbnail  \\\n",
       "0  http://books.google.com/books/content?id=KQZCP...   \n",
       "1  http://books.google.com/books/content?id=gA5GP...   \n",
       "2  http://books.google.com/books/content?id=OmQaw...   \n",
       "3  http://books.google.com/books/content?id=FKo2T...   \n",
       "4  http://books.google.com/books/content?id=XhQ5X...   \n",
       "\n",
       "                                         description  published_year  \\\n",
       "0  A NOVEL THAT READERS and critics have been eag...          2004.0   \n",
       "1  A new 'Christie for Christmas' -- a full-lengt...          2000.0   \n",
       "2  Volume Two of Stephen Donaldson's acclaimed se...          1982.0   \n",
       "3  A memorable, mesmerizing heroine Jennifer -- b...          1993.0   \n",
       "4  Lewis' work on the nature of love divides love...          2002.0   \n",
       "\n",
       "   average_rating  num_pages  ratings_count  \n",
       "0            3.85      247.0          361.0  \n",
       "1            3.83      241.0         5164.0  \n",
       "2            3.97      479.0          172.0  \n",
       "3            3.93      512.0        29532.0  \n",
       "4            4.15      170.0        33684.0  "
      ]
     },
     "execution_count": 4,
     "metadata": {},
     "output_type": "execute_result"
    }
   ],
   "source": [
    "df.head()"
   ]
  },
  {
   "cell_type": "markdown",
   "id": "28cf348e",
   "metadata": {},
   "source": [
    "Let's look at some statistical measures"
   ]
  },
  {
   "cell_type": "code",
   "execution_count": 5,
   "id": "3b73e8f0",
   "metadata": {},
   "outputs": [
    {
     "data": {
      "text/html": [
       "<div>\n",
       "<style scoped>\n",
       "    .dataframe tbody tr th:only-of-type {\n",
       "        vertical-align: middle;\n",
       "    }\n",
       "\n",
       "    .dataframe tbody tr th {\n",
       "        vertical-align: top;\n",
       "    }\n",
       "\n",
       "    .dataframe thead th {\n",
       "        text-align: right;\n",
       "    }\n",
       "</style>\n",
       "<table border=\"1\" class=\"dataframe\">\n",
       "  <thead>\n",
       "    <tr style=\"text-align: right;\">\n",
       "      <th></th>\n",
       "      <th>isbn13</th>\n",
       "      <th>published_year</th>\n",
       "      <th>average_rating</th>\n",
       "      <th>num_pages</th>\n",
       "      <th>ratings_count</th>\n",
       "    </tr>\n",
       "  </thead>\n",
       "  <tbody>\n",
       "    <tr>\n",
       "      <th>count</th>\n",
       "      <td>6.810000e+03</td>\n",
       "      <td>6804.000000</td>\n",
       "      <td>6767.000000</td>\n",
       "      <td>6767.000000</td>\n",
       "      <td>6.767000e+03</td>\n",
       "    </tr>\n",
       "    <tr>\n",
       "      <th>mean</th>\n",
       "      <td>9.780677e+12</td>\n",
       "      <td>1998.630364</td>\n",
       "      <td>3.933284</td>\n",
       "      <td>348.181026</td>\n",
       "      <td>2.106910e+04</td>\n",
       "    </tr>\n",
       "    <tr>\n",
       "      <th>std</th>\n",
       "      <td>6.068911e+08</td>\n",
       "      <td>10.484257</td>\n",
       "      <td>0.331352</td>\n",
       "      <td>242.376783</td>\n",
       "      <td>1.376207e+05</td>\n",
       "    </tr>\n",
       "    <tr>\n",
       "      <th>min</th>\n",
       "      <td>9.780002e+12</td>\n",
       "      <td>1853.000000</td>\n",
       "      <td>0.000000</td>\n",
       "      <td>0.000000</td>\n",
       "      <td>0.000000e+00</td>\n",
       "    </tr>\n",
       "    <tr>\n",
       "      <th>25%</th>\n",
       "      <td>9.780330e+12</td>\n",
       "      <td>1996.000000</td>\n",
       "      <td>3.770000</td>\n",
       "      <td>208.000000</td>\n",
       "      <td>1.590000e+02</td>\n",
       "    </tr>\n",
       "    <tr>\n",
       "      <th>50%</th>\n",
       "      <td>9.780553e+12</td>\n",
       "      <td>2002.000000</td>\n",
       "      <td>3.960000</td>\n",
       "      <td>304.000000</td>\n",
       "      <td>1.018000e+03</td>\n",
       "    </tr>\n",
       "    <tr>\n",
       "      <th>75%</th>\n",
       "      <td>9.780810e+12</td>\n",
       "      <td>2005.000000</td>\n",
       "      <td>4.130000</td>\n",
       "      <td>420.000000</td>\n",
       "      <td>5.992500e+03</td>\n",
       "    </tr>\n",
       "    <tr>\n",
       "      <th>max</th>\n",
       "      <td>9.789042e+12</td>\n",
       "      <td>2019.000000</td>\n",
       "      <td>5.000000</td>\n",
       "      <td>3342.000000</td>\n",
       "      <td>5.629932e+06</td>\n",
       "    </tr>\n",
       "  </tbody>\n",
       "</table>\n",
       "</div>"
      ],
      "text/plain": [
       "             isbn13  published_year  average_rating    num_pages  \\\n",
       "count  6.810000e+03     6804.000000     6767.000000  6767.000000   \n",
       "mean   9.780677e+12     1998.630364        3.933284   348.181026   \n",
       "std    6.068911e+08       10.484257        0.331352   242.376783   \n",
       "min    9.780002e+12     1853.000000        0.000000     0.000000   \n",
       "25%    9.780330e+12     1996.000000        3.770000   208.000000   \n",
       "50%    9.780553e+12     2002.000000        3.960000   304.000000   \n",
       "75%    9.780810e+12     2005.000000        4.130000   420.000000   \n",
       "max    9.789042e+12     2019.000000        5.000000  3342.000000   \n",
       "\n",
       "       ratings_count  \n",
       "count   6.767000e+03  \n",
       "mean    2.106910e+04  \n",
       "std     1.376207e+05  \n",
       "min     0.000000e+00  \n",
       "25%     1.590000e+02  \n",
       "50%     1.018000e+03  \n",
       "75%     5.992500e+03  \n",
       "max     5.629932e+06  "
      ]
     },
     "execution_count": 5,
     "metadata": {},
     "output_type": "execute_result"
    }
   ],
   "source": [
    "df.describe()"
   ]
  },
  {
   "cell_type": "markdown",
   "id": "ffb500d8",
   "metadata": {},
   "source": [
    "Duplicated books"
   ]
  },
  {
   "cell_type": "code",
   "execution_count": 28,
   "id": "1a332044",
   "metadata": {},
   "outputs": [
    {
     "name": "stdout",
     "output_type": "stream",
     "text": [
      "number of duplicated books: 0\n"
     ]
    }
   ],
   "source": [
    "print('number of duplicated books:',df.duplicated().sum())"
   ]
  },
  {
   "cell_type": "markdown",
   "id": "71c7b97d",
   "metadata": {},
   "source": [
    "Let's now look at missing values"
   ]
  },
  {
   "cell_type": "code",
   "execution_count": 7,
   "id": "6a0b2533",
   "metadata": {},
   "outputs": [
    {
     "name": "stdout",
     "output_type": "stream",
     "text": [
      "number of missing values for the col isbn13 is 0\n",
      "number of missing values for the col isbn10 is 0\n",
      "number of missing values for the col title is 0\n",
      "number of missing values for the col subtitle is 4429\n",
      "number of missing values for the col authors is 72\n",
      "number of missing values for the col categories is 99\n",
      "number of missing values for the col thumbnail is 329\n",
      "number of missing values for the col description is 262\n",
      "number of missing values for the col published_year is 6\n",
      "number of missing values for the col average_rating is 43\n",
      "number of missing values for the col num_pages is 43\n",
      "number of missing values for the col ratings_count is 43\n"
     ]
    }
   ],
   "source": [
    "for col in df.columns:\n",
    "    print(\"number of missing values for the col\",col,\"is\",df[col].isnull().sum())"
   ]
  },
  {
   "cell_type": "markdown",
   "id": "57c9dd36",
   "metadata": {},
   "source": [
    "We have the most missing values in subtitles, and 262 in description col, which is our most important column."
   ]
  },
  {
   "cell_type": "code",
   "execution_count": 8,
   "id": "54641746",
   "metadata": {},
   "outputs": [
    {
     "data": {
      "text/plain": [
       "isbn13            6810\n",
       "isbn10            6810\n",
       "title             6398\n",
       "subtitle          2009\n",
       "authors           3780\n",
       "categories         567\n",
       "thumbnail         6481\n",
       "description       6474\n",
       "published_year      94\n",
       "average_rating     200\n",
       "num_pages          915\n",
       "ratings_count     3881\n",
       "dtype: int64"
      ]
     },
     "execution_count": 8,
     "metadata": {},
     "output_type": "execute_result"
    }
   ],
   "source": [
    "df.nunique()"
   ]
  },
  {
   "cell_type": "markdown",
   "id": "27f76d96",
   "metadata": {},
   "source": [
    "we will use a heatmap to find patterns in missing values"
   ]
  },
  {
   "cell_type": "code",
   "execution_count": 30,
   "id": "105bd737",
   "metadata": {},
   "outputs": [
    {
     "data": {
      "image/png": "[encoded data removed]",
      "text/plain": [
       "<Figure size 640x480 with 1 Axes>"
      ]
     },
     "metadata": {},
     "output_type": "display_data"
    }
   ],
   "source": [
    "ax = plt.axes()\n",
    "sns.heatmap(df.isna().transpose(),cbar=False,ax=ax)\n",
    "\n",
    "plt.ylabel('columns')\n",
    "plt.xlabel('missing values')\n",
    "\n",
    "plt.savefig('../plots/cols_vs_missing_vals.png',dpi=300)\n",
    "plt.show()"
   ]
  },
  {
   "cell_type": "markdown",
   "id": "38c2e17b",
   "metadata": {},
   "source": [
    "Conclusions:\n",
    "* subtitle has the most missing values\n",
    "* we can see a pattern regarding the last 3 columns, if an observation has a missing value in one of them, the other two are also missing."
   ]
  },
  {
   "cell_type": "markdown",
   "id": "af10ca8e",
   "metadata": {},
   "source": [
    "We need to see if there is any bias regarding the missing descriptions (which is the most important feature for our recommener system), (maybe they are newer, their rating or other features)\n",
    "* We can construct a correlation matrix to find out"
   ]
  },
  {
   "cell_type": "code",
   "execution_count": 10,
   "id": "92d66bc7",
   "metadata": {},
   "outputs": [],
   "source": [
    "import numpy as np\n",
    "\n",
    "df['missing_description'] = np.where(df['description'].isna(),1,0)\n",
    "df['age_of_book'] = 2025 - df['published_year']"
   ]
  },
  {
   "cell_type": "code",
   "execution_count": 29,
   "id": "f339428c",
   "metadata": {},
   "outputs": [
    {
     "data": {
      "image/png": "[encoded data removed]",
      "text/plain": [
       "<Figure size 800x600 with 2 Axes>"
      ]
     },
     "metadata": {},
     "output_type": "display_data"
    }
   ],
   "source": [
    "cols = ['num_pages','age_of_book','missing_description','average_rating']\n",
    "correlation_matrix = df[cols].corr(method = \"spearman\")\n",
    "\n",
    "sns.set_theme(style=\"white\")\n",
    "plt.figure(figsize=(8, 6))\n",
    "heatmap = sns.heatmap(correlation_matrix, annot=True, fmt=\".2f\", cmap=\"coolwarm\",\n",
    "                      cbar_kws={\"label\": \"Spearman correlation\"})\n",
    "heatmap.set_title(\"Correlation heatmap\")\n",
    "\n",
    "plt.savefig('../plots/corr_matrix.png',dpi=300)\n",
    "plt.show()"
   ]
  },
  {
   "cell_type": "markdown",
   "id": "39a5c947",
   "metadata": {},
   "source": [
    "Conclusion: missing description have weak correlation with other variables. It's safe to drop books with missing values.\n",
    "* Dropping missing values from a column that has a strong correlation with other columns can introduce bias in our recommender system."
   ]
  },
  {
   "cell_type": "markdown",
   "id": "a761216c",
   "metadata": {},
   "source": [
    "Let's look at how many missing rows we have"
   ]
  },
  {
   "cell_type": "code",
   "execution_count": 12,
   "id": "969f80bb",
   "metadata": {},
   "outputs": [
    {
     "data": {
      "text/plain": [
       "(303, 14)"
      ]
     },
     "execution_count": 12,
     "metadata": {},
     "output_type": "execute_result"
    }
   ],
   "source": [
    "df_missing = df[ (df['description'].isnull())\n",
    "   | (df['num_pages'].isnull())\n",
    "   | (df['average_rating'].isnull())\n",
    "   | (df['published_year'].isnull())]\n",
    "\n",
    "df_missing.shape"
   ]
  },
  {
   "cell_type": "markdown",
   "id": "2c6c93d1",
   "metadata": {},
   "source": [
    "We have 303 rows, we can get rid of them"
   ]
  },
  {
   "cell_type": "code",
   "execution_count": 13,
   "id": "4820b18a",
   "metadata": {},
   "outputs": [
    {
     "data": {
      "text/plain": [
       "(6507, 14)"
      ]
     },
     "execution_count": 13,
     "metadata": {},
     "output_type": "execute_result"
    }
   ],
   "source": [
    "df1 = df[ ~(df['description'].isnull())\n",
    "   & ~(df['num_pages'].isnull())\n",
    "   & ~(df['average_rating'].isnull())\n",
    "   & ~(df['published_year'].isnull())]\n",
    "df1.shape"
   ]
  },
  {
   "cell_type": "markdown",
   "id": "532601ed",
   "metadata": {},
   "source": [
    "Let's take a look at out categories column"
   ]
  },
  {
   "cell_type": "code",
   "execution_count": 14,
   "id": "c07487a4",
   "metadata": {},
   "outputs": [
    {
     "data": {
      "text/plain": [
       "531"
      ]
     },
     "execution_count": 14,
     "metadata": {},
     "output_type": "execute_result"
    }
   ],
   "source": [
    "df1['categories'].nunique()"
   ]
  },
  {
   "cell_type": "markdown",
   "id": "a09cd5b9",
   "metadata": {},
   "source": [
    "We have around 531 unique categories, we will narrow them down to a few meaningful ones later"
   ]
  },
  {
   "cell_type": "code",
   "execution_count": 15,
   "id": "8d249081",
   "metadata": {},
   "outputs": [
    {
     "data": {
      "text/plain": [
       "np.int64(33)"
      ]
     },
     "execution_count": 15,
     "metadata": {},
     "output_type": "execute_result"
    }
   ],
   "source": [
    "df1['categories'].isnull().sum()"
   ]
  },
  {
   "cell_type": "markdown",
   "id": "a7c6b084",
   "metadata": {},
   "source": [
    "And 33 missing values"
   ]
  },
  {
   "cell_type": "markdown",
   "id": "c23afe5c",
   "metadata": {},
   "source": [
    "Let's look at its distribution, and look at the most frequent categories"
   ]
  },
  {
   "cell_type": "code",
   "execution_count": 16,
   "id": "f0f60e23",
   "metadata": {},
   "outputs": [
    {
     "data": {
      "text/html": [
       "<div>\n",
       "<style scoped>\n",
       "    .dataframe tbody tr th:only-of-type {\n",
       "        vertical-align: middle;\n",
       "    }\n",
       "\n",
       "    .dataframe tbody tr th {\n",
       "        vertical-align: top;\n",
       "    }\n",
       "\n",
       "    .dataframe thead th {\n",
       "        text-align: right;\n",
       "    }\n",
       "</style>\n",
       "<table border=\"1\" class=\"dataframe\">\n",
       "  <thead>\n",
       "    <tr style=\"text-align: right;\">\n",
       "      <th></th>\n",
       "      <th>categories</th>\n",
       "      <th>count</th>\n",
       "    </tr>\n",
       "  </thead>\n",
       "  <tbody>\n",
       "    <tr>\n",
       "      <th>0</th>\n",
       "      <td>Fiction</td>\n",
       "      <td>2523</td>\n",
       "    </tr>\n",
       "    <tr>\n",
       "      <th>1</th>\n",
       "      <td>Juvenile Fiction</td>\n",
       "      <td>534</td>\n",
       "    </tr>\n",
       "    <tr>\n",
       "      <th>2</th>\n",
       "      <td>Biography &amp; Autobiography</td>\n",
       "      <td>391</td>\n",
       "    </tr>\n",
       "    <tr>\n",
       "      <th>3</th>\n",
       "      <td>History</td>\n",
       "      <td>258</td>\n",
       "    </tr>\n",
       "    <tr>\n",
       "      <th>4</th>\n",
       "      <td>Literary Criticism</td>\n",
       "      <td>164</td>\n",
       "    </tr>\n",
       "    <tr>\n",
       "      <th>5</th>\n",
       "      <td>Philosophy</td>\n",
       "      <td>154</td>\n",
       "    </tr>\n",
       "    <tr>\n",
       "      <th>6</th>\n",
       "      <td>Comics &amp; Graphic Novels</td>\n",
       "      <td>152</td>\n",
       "    </tr>\n",
       "    <tr>\n",
       "      <th>7</th>\n",
       "      <td>Religion</td>\n",
       "      <td>136</td>\n",
       "    </tr>\n",
       "    <tr>\n",
       "      <th>8</th>\n",
       "      <td>Drama</td>\n",
       "      <td>126</td>\n",
       "    </tr>\n",
       "    <tr>\n",
       "      <th>9</th>\n",
       "      <td>Juvenile Nonfiction</td>\n",
       "      <td>114</td>\n",
       "    </tr>\n",
       "  </tbody>\n",
       "</table>\n",
       "</div>"
      ],
      "text/plain": [
       "                  categories  count\n",
       "0                    Fiction   2523\n",
       "1           Juvenile Fiction    534\n",
       "2  Biography & Autobiography    391\n",
       "3                    History    258\n",
       "4         Literary Criticism    164\n",
       "5                 Philosophy    154\n",
       "6    Comics & Graphic Novels    152\n",
       "7                   Religion    136\n",
       "8                      Drama    126\n",
       "9        Juvenile Nonfiction    114"
      ]
     },
     "execution_count": 16,
     "metadata": {},
     "output_type": "execute_result"
    }
   ],
   "source": [
    "df1['categories'].value_counts().reset_index()[:10]"
   ]
  },
  {
   "cell_type": "markdown",
   "id": "930370d9",
   "metadata": {},
   "source": [
    "We have an unbalanced distribution of the categories with fiction the most frequent."
   ]
  },
  {
   "cell_type": "markdown",
   "id": "e7ac1ef3",
   "metadata": {},
   "source": [
    "Refining description column"
   ]
  },
  {
   "cell_type": "code",
   "execution_count": 17,
   "id": "e308052f",
   "metadata": {},
   "outputs": [
    {
     "name": "stderr",
     "output_type": "stream",
     "text": [
      "C:\\Users\\ghass\\AppData\\Local\\Temp\\ipykernel_16572\\2611664758.py:1: SettingWithCopyWarning: \n",
      "A value is trying to be set on a copy of a slice from a DataFrame.\n",
      "Try using .loc[row_indexer,col_indexer] = value instead\n",
      "\n",
      "See the caveats in the documentation: https://pandas.pydata.org/pandas-docs/stable/user_guide/indexing.html#returning-a-view-versus-a-copy\n",
      "  df1['words_in_description'] = df1['description'].str.split().str.len()\n"
     ]
    }
   ],
   "source": [
    "df1['words_in_description'] = df1['description'].str.split().str.len()"
   ]
  },
  {
   "cell_type": "code",
   "execution_count": 18,
   "id": "4c280ec9",
   "metadata": {},
   "outputs": [
    {
     "data": {
      "text/plain": [
       "4144    920\n",
       "4091    621\n",
       "6700    619\n",
       "1848    575\n",
       "5600    512\n",
       "       ... \n",
       "5243      1\n",
       "5599      1\n",
       "5135      1\n",
       "6         1\n",
       "6721      1\n",
       "Name: words_in_description, Length: 6507, dtype: int64"
      ]
     },
     "execution_count": 18,
     "metadata": {},
     "output_type": "execute_result"
    }
   ],
   "source": [
    "df1['words_in_description'].sort_values(ascending=False)"
   ]
  },
  {
   "cell_type": "code",
   "execution_count": 19,
   "id": "0d5c54b0",
   "metadata": {},
   "outputs": [
    {
     "data": {
      "text/plain": [
       "count    6507.000000\n",
       "mean       66.325803\n",
       "std        66.120291\n",
       "min         1.000000\n",
       "25%        27.000000\n",
       "50%        40.000000\n",
       "75%        82.000000\n",
       "max       920.000000\n",
       "Name: words_in_description, dtype: float64"
      ]
     },
     "execution_count": 19,
     "metadata": {},
     "output_type": "execute_result"
    }
   ],
   "source": [
    "df1['words_in_description'].describe()"
   ]
  },
  {
   "cell_type": "code",
   "execution_count": 20,
   "id": "ebce1857",
   "metadata": {},
   "outputs": [
    {
     "data": {
      "text/plain": [
       "6                                           Donation.\n",
       "11                                     Fantasy-roman.\n",
       "748              Includes bibliographical references.\n",
       "770                             Bound For Oregon (PB)\n",
       "775                                No Marketing Blurb\n",
       "812                                No Marketing Blurb\n",
       "857                          First published in 1813.\n",
       "944                         Edited by Maurice Hindle.\n",
       "953                        DEFOE/ROBINSON CRUSOE (BC)\n",
       "954                             Edited by John Carey.\n",
       "962                         ALLEN/GETTING THINGS DONE\n",
       "1054                            GILBERT/EAT PRAY LOVE\n",
       "1056    \"Graham Greene centennial, 1904-2004\"--Cover.\n",
       "1060                   STEINBECK/GRAPES OF WRATH (BC)\n",
       "1346                                   Fantasy-roman.\n",
       "1546                                      Winter 2003\n",
       "1610                                      Winter 1999\n",
       "1813                             National bestseller.\n",
       "1981                                         Romance.\n",
       "2089                               Oprah's Book Club.\n",
       "2372                       KANDEL/IN SEARCH OF MEMORY\n",
       "2946                           FICTION-ROMANCE/GOTHIC\n",
       "3064                               No Marketing Blurb\n",
       "3364                                   Fantasy-roman.\n",
       "3425                               A novel of Israel.\n",
       "3435                                 Science fiction.\n",
       "3611                                Cast ages: adult.\n",
       "3641                           A Classic Robot novel.\n",
       "3645                           Science fiction-roman.\n",
       "3857         Comprehensive Teacher's Guide available.\n",
       "3959                                   Ketubot Part I\n",
       "4262                             Issued in container.\n",
       "4898                                   Fantasy roman.\n",
       "5015                                             See:\n",
       "5090                                                ?\n",
       "5135                              (Autobiographical).\n",
       "5161                          A classic rediscovered.\n",
       "5243                                                .\n",
       "5245                                                .\n",
       "5332                               No Marketing Blurb\n",
       "5493                         Motion, Sound, and Heat.\n",
       "5505                                    Eventyrroman.\n",
       "5599                                             #48.\n",
       "5652                 see www.BloodMoonProductions.com\n",
       "6066                               No Marketing Blurb\n",
       "6144                             Dominion 3rd Edition\n",
       "6180                                  Revised edition\n",
       "6368                                        undefined\n",
       "6402                           Meaning of life novel.\n",
       "6499                                           Roman.\n",
       "6557                                 Kriminalromaner.\n",
       "6571                   Translated by Anthony Burgess.\n",
       "6695                               No Marketing Blurb\n",
       "6721                                          Horror.\n",
       "6794                             源氏物語54帖、「宮田切り絵」の真骨頂。\n",
       "Name: description, dtype: object"
      ]
     },
     "execution_count": 20,
     "metadata": {},
     "output_type": "execute_result"
    }
   ],
   "source": [
    "df1.loc[df1['words_in_description'].between(1,4),\"description\"]"
   ]
  },
  {
   "cell_type": "markdown",
   "id": "4b9a0f89",
   "metadata": {},
   "source": [
    "Choosing an interval considering number of words in the description col (so that the description becomes meaningful)"
   ]
  },
  {
   "cell_type": "code",
   "execution_count": 21,
   "id": "a8261a25",
   "metadata": {},
   "outputs": [
    {
     "data": {
      "text/plain": [
       "(3825, 15)"
      ]
     },
     "execution_count": 21,
     "metadata": {},
     "output_type": "execute_result"
    }
   ],
   "source": [
    "df2 = df1[(df1['words_in_description'] >= 25)& (df1['words_in_description'] <=100)]\n",
    "df2.shape"
   ]
  },
  {
   "cell_type": "markdown",
   "id": "793ee566",
   "metadata": {},
   "source": [
    "we create a new field title&subtitle to deal with the missing rows in subtitle field (we will pair them if they exist,else we jute write the title)"
   ]
  },
  {
   "cell_type": "code",
   "execution_count": 22,
   "id": "18a58a6d",
   "metadata": {},
   "outputs": [
    {
     "name": "stderr",
     "output_type": "stream",
     "text": [
      "C:\\Users\\ghass\\AppData\\Local\\Temp\\ipykernel_16572\\4052381454.py:1: SettingWithCopyWarning: \n",
      "A value is trying to be set on a copy of a slice from a DataFrame.\n",
      "Try using .loc[row_indexer,col_indexer] = value instead\n",
      "\n",
      "See the caveats in the documentation: https://pandas.pydata.org/pandas-docs/stable/user_guide/indexing.html#returning-a-view-versus-a-copy\n",
      "  df2['title_and_subtitle'] = (\n"
     ]
    }
   ],
   "source": [
    "df2['title_and_subtitle'] = (\n",
    "    np.where(df2['subtitle'].isna(),df2['title'],\n",
    "             df2[['title','subtitle']].astype(str).agg(\": \".join,axis=1))\n",
    ")"
   ]
  },
  {
   "cell_type": "code",
   "execution_count": 23,
   "id": "05fcf00c",
   "metadata": {},
   "outputs": [
    {
     "data": {
      "text/html": [
       "<div>\n",
       "<style scoped>\n",
       "    .dataframe tbody tr th:only-of-type {\n",
       "        vertical-align: middle;\n",
       "    }\n",
       "\n",
       "    .dataframe tbody tr th {\n",
       "        vertical-align: top;\n",
       "    }\n",
       "\n",
       "    .dataframe thead th {\n",
       "        text-align: right;\n",
       "    }\n",
       "</style>\n",
       "<table border=\"1\" class=\"dataframe\">\n",
       "  <thead>\n",
       "    <tr style=\"text-align: right;\">\n",
       "      <th></th>\n",
       "      <th>isbn13</th>\n",
       "      <th>isbn10</th>\n",
       "      <th>title</th>\n",
       "      <th>subtitle</th>\n",
       "      <th>authors</th>\n",
       "      <th>categories</th>\n",
       "      <th>thumbnail</th>\n",
       "      <th>description</th>\n",
       "      <th>published_year</th>\n",
       "      <th>average_rating</th>\n",
       "      <th>num_pages</th>\n",
       "      <th>ratings_count</th>\n",
       "      <th>missing_description</th>\n",
       "      <th>age_of_book</th>\n",
       "      <th>words_in_description</th>\n",
       "      <th>title_and_subtitle</th>\n",
       "    </tr>\n",
       "  </thead>\n",
       "  <tbody>\n",
       "    <tr>\n",
       "      <th>3</th>\n",
       "      <td>9780006178736</td>\n",
       "      <td>0006178731</td>\n",
       "      <td>Rage of angels</td>\n",
       "      <td>NaN</td>\n",
       "      <td>Sidney Sheldon</td>\n",
       "      <td>Fiction</td>\n",
       "      <td>http://books.google.com/books/content?id=FKo2T...</td>\n",
       "      <td>A memorable, mesmerizing heroine Jennifer -- b...</td>\n",
       "      <td>1993.0</td>\n",
       "      <td>3.93</td>\n",
       "      <td>512.0</td>\n",
       "      <td>29532.0</td>\n",
       "      <td>0</td>\n",
       "      <td>32.0</td>\n",
       "      <td>57</td>\n",
       "      <td>Rage of angels</td>\n",
       "    </tr>\n",
       "    <tr>\n",
       "      <th>4</th>\n",
       "      <td>9780006280897</td>\n",
       "      <td>0006280897</td>\n",
       "      <td>The Four Loves</td>\n",
       "      <td>NaN</td>\n",
       "      <td>Clive Staples Lewis</td>\n",
       "      <td>Christian life</td>\n",
       "      <td>http://books.google.com/books/content?id=XhQ5X...</td>\n",
       "      <td>Lewis' work on the nature of love divides love...</td>\n",
       "      <td>2002.0</td>\n",
       "      <td>4.15</td>\n",
       "      <td>170.0</td>\n",
       "      <td>33684.0</td>\n",
       "      <td>0</td>\n",
       "      <td>23.0</td>\n",
       "      <td>45</td>\n",
       "      <td>The Four Loves</td>\n",
       "    </tr>\n",
       "    <tr>\n",
       "      <th>5</th>\n",
       "      <td>9780006280934</td>\n",
       "      <td>0006280935</td>\n",
       "      <td>The Problem of Pain</td>\n",
       "      <td>NaN</td>\n",
       "      <td>Clive Staples Lewis</td>\n",
       "      <td>Christian life</td>\n",
       "      <td>http://books.google.com/books/content?id=Kk-uV...</td>\n",
       "      <td>\"In The Problem of Pain, C.S. Lewis, one of th...</td>\n",
       "      <td>2002.0</td>\n",
       "      <td>4.09</td>\n",
       "      <td>176.0</td>\n",
       "      <td>37569.0</td>\n",
       "      <td>0</td>\n",
       "      <td>23.0</td>\n",
       "      <td>75</td>\n",
       "      <td>The Problem of Pain</td>\n",
       "    </tr>\n",
       "    <tr>\n",
       "      <th>7</th>\n",
       "      <td>9780006380832</td>\n",
       "      <td>0006380832</td>\n",
       "      <td>Empires of the Monsoon</td>\n",
       "      <td>A History of the Indian Ocean and Its Invaders</td>\n",
       "      <td>Richard Hall</td>\n",
       "      <td>Africa, East</td>\n",
       "      <td>http://books.google.com/books/content?id=MuPEQ...</td>\n",
       "      <td>Until Vasco da Gama discovered the sea-route t...</td>\n",
       "      <td>1998.0</td>\n",
       "      <td>4.41</td>\n",
       "      <td>608.0</td>\n",
       "      <td>65.0</td>\n",
       "      <td>0</td>\n",
       "      <td>27.0</td>\n",
       "      <td>80</td>\n",
       "      <td>Empires of the Monsoon: A History of the India...</td>\n",
       "    </tr>\n",
       "    <tr>\n",
       "      <th>9</th>\n",
       "      <td>9780006472612</td>\n",
       "      <td>0006472613</td>\n",
       "      <td>Master of the Game</td>\n",
       "      <td>NaN</td>\n",
       "      <td>Sidney Sheldon</td>\n",
       "      <td>Adventure stories</td>\n",
       "      <td>http://books.google.com/books/content?id=TkTYp...</td>\n",
       "      <td>Kate Blackwell is an enigma and one of the mos...</td>\n",
       "      <td>1982.0</td>\n",
       "      <td>4.11</td>\n",
       "      <td>489.0</td>\n",
       "      <td>43540.0</td>\n",
       "      <td>0</td>\n",
       "      <td>43.0</td>\n",
       "      <td>30</td>\n",
       "      <td>Master of the Game</td>\n",
       "    </tr>\n",
       "  </tbody>\n",
       "</table>\n",
       "</div>"
      ],
      "text/plain": [
       "          isbn13      isbn10                   title  \\\n",
       "3  9780006178736  0006178731          Rage of angels   \n",
       "4  9780006280897  0006280897          The Four Loves   \n",
       "5  9780006280934  0006280935     The Problem of Pain   \n",
       "7  9780006380832  0006380832  Empires of the Monsoon   \n",
       "9  9780006472612  0006472613      Master of the Game   \n",
       "\n",
       "                                         subtitle              authors  \\\n",
       "3                                             NaN       Sidney Sheldon   \n",
       "4                                             NaN  Clive Staples Lewis   \n",
       "5                                             NaN  Clive Staples Lewis   \n",
       "7  A History of the Indian Ocean and Its Invaders         Richard Hall   \n",
       "9                                             NaN       Sidney Sheldon   \n",
       "\n",
       "          categories                                          thumbnail  \\\n",
       "3            Fiction  http://books.google.com/books/content?id=FKo2T...   \n",
       "4     Christian life  http://books.google.com/books/content?id=XhQ5X...   \n",
       "5     Christian life  http://books.google.com/books/content?id=Kk-uV...   \n",
       "7       Africa, East  http://books.google.com/books/content?id=MuPEQ...   \n",
       "9  Adventure stories  http://books.google.com/books/content?id=TkTYp...   \n",
       "\n",
       "                                         description  published_year  \\\n",
       "3  A memorable, mesmerizing heroine Jennifer -- b...          1993.0   \n",
       "4  Lewis' work on the nature of love divides love...          2002.0   \n",
       "5  \"In The Problem of Pain, C.S. Lewis, one of th...          2002.0   \n",
       "7  Until Vasco da Gama discovered the sea-route t...          1998.0   \n",
       "9  Kate Blackwell is an enigma and one of the mos...          1982.0   \n",
       "\n",
       "   average_rating  num_pages  ratings_count  missing_description  age_of_book  \\\n",
       "3            3.93      512.0        29532.0                    0         32.0   \n",
       "4            4.15      170.0        33684.0                    0         23.0   \n",
       "5            4.09      176.0        37569.0                    0         23.0   \n",
       "7            4.41      608.0           65.0                    0         27.0   \n",
       "9            4.11      489.0        43540.0                    0         43.0   \n",
       "\n",
       "   words_in_description                                 title_and_subtitle  \n",
       "3                    57                                     Rage of angels  \n",
       "4                    45                                     The Four Loves  \n",
       "5                    75                                The Problem of Pain  \n",
       "7                    80  Empires of the Monsoon: A History of the India...  \n",
       "9                    30                                 Master of the Game  "
      ]
     },
     "execution_count": 23,
     "metadata": {},
     "output_type": "execute_result"
    }
   ],
   "source": [
    "df2.head()"
   ]
  },
  {
   "cell_type": "markdown",
   "id": "2625dd00",
   "metadata": {},
   "source": [
    "We need now to create a new column which tags each unique description.\n",
    "* this is useful to get the metadata of the book from it's recommended description so that we can show it to the user"
   ]
  },
  {
   "cell_type": "code",
   "execution_count": 24,
   "id": "4ecc32a2",
   "metadata": {},
   "outputs": [
    {
     "name": "stderr",
     "output_type": "stream",
     "text": [
      "C:\\Users\\ghass\\AppData\\Local\\Temp\\ipykernel_16572\\3991898117.py:1: SettingWithCopyWarning: \n",
      "A value is trying to be set on a copy of a slice from a DataFrame.\n",
      "Try using .loc[row_indexer,col_indexer] = value instead\n",
      "\n",
      "See the caveats in the documentation: https://pandas.pydata.org/pandas-docs/stable/user_guide/indexing.html#returning-a-view-versus-a-copy\n",
      "  df2['tagged_description'] = df2[['isbn13','description']].astype(str).agg(\" \".join,axis=1)\n"
     ]
    }
   ],
   "source": [
    "df2['tagged_description'] = df2[['isbn13','description']].astype(str).agg(\" \".join,axis=1)"
   ]
  },
  {
   "cell_type": "code",
   "execution_count": 25,
   "id": "9d4f18e6",
   "metadata": {},
   "outputs": [
    {
     "data": {
      "text/html": [
       "<div>\n",
       "<style scoped>\n",
       "    .dataframe tbody tr th:only-of-type {\n",
       "        vertical-align: middle;\n",
       "    }\n",
       "\n",
       "    .dataframe tbody tr th {\n",
       "        vertical-align: top;\n",
       "    }\n",
       "\n",
       "    .dataframe thead th {\n",
       "        text-align: right;\n",
       "    }\n",
       "</style>\n",
       "<table border=\"1\" class=\"dataframe\">\n",
       "  <thead>\n",
       "    <tr style=\"text-align: right;\">\n",
       "      <th></th>\n",
       "      <th>isbn13</th>\n",
       "      <th>isbn10</th>\n",
       "      <th>title</th>\n",
       "      <th>subtitle</th>\n",
       "      <th>authors</th>\n",
       "      <th>categories</th>\n",
       "      <th>thumbnail</th>\n",
       "      <th>description</th>\n",
       "      <th>published_year</th>\n",
       "      <th>average_rating</th>\n",
       "      <th>num_pages</th>\n",
       "      <th>ratings_count</th>\n",
       "      <th>missing_description</th>\n",
       "      <th>age_of_book</th>\n",
       "      <th>words_in_description</th>\n",
       "      <th>title_and_subtitle</th>\n",
       "      <th>tagged_description</th>\n",
       "    </tr>\n",
       "  </thead>\n",
       "  <tbody>\n",
       "    <tr>\n",
       "      <th>3</th>\n",
       "      <td>9780006178736</td>\n",
       "      <td>0006178731</td>\n",
       "      <td>Rage of angels</td>\n",
       "      <td>NaN</td>\n",
       "      <td>Sidney Sheldon</td>\n",
       "      <td>Fiction</td>\n",
       "      <td>http://books.google.com/books/content?id=FKo2T...</td>\n",
       "      <td>A memorable, mesmerizing heroine Jennifer -- b...</td>\n",
       "      <td>1993.0</td>\n",
       "      <td>3.93</td>\n",
       "      <td>512.0</td>\n",
       "      <td>29532.0</td>\n",
       "      <td>0</td>\n",
       "      <td>32.0</td>\n",
       "      <td>57</td>\n",
       "      <td>Rage of angels</td>\n",
       "      <td>9780006178736 A memorable, mesmerizing heroine...</td>\n",
       "    </tr>\n",
       "    <tr>\n",
       "      <th>4</th>\n",
       "      <td>9780006280897</td>\n",
       "      <td>0006280897</td>\n",
       "      <td>The Four Loves</td>\n",
       "      <td>NaN</td>\n",
       "      <td>Clive Staples Lewis</td>\n",
       "      <td>Christian life</td>\n",
       "      <td>http://books.google.com/books/content?id=XhQ5X...</td>\n",
       "      <td>Lewis' work on the nature of love divides love...</td>\n",
       "      <td>2002.0</td>\n",
       "      <td>4.15</td>\n",
       "      <td>170.0</td>\n",
       "      <td>33684.0</td>\n",
       "      <td>0</td>\n",
       "      <td>23.0</td>\n",
       "      <td>45</td>\n",
       "      <td>The Four Loves</td>\n",
       "      <td>9780006280897 Lewis' work on the nature of lov...</td>\n",
       "    </tr>\n",
       "    <tr>\n",
       "      <th>5</th>\n",
       "      <td>9780006280934</td>\n",
       "      <td>0006280935</td>\n",
       "      <td>The Problem of Pain</td>\n",
       "      <td>NaN</td>\n",
       "      <td>Clive Staples Lewis</td>\n",
       "      <td>Christian life</td>\n",
       "      <td>http://books.google.com/books/content?id=Kk-uV...</td>\n",
       "      <td>\"In The Problem of Pain, C.S. Lewis, one of th...</td>\n",
       "      <td>2002.0</td>\n",
       "      <td>4.09</td>\n",
       "      <td>176.0</td>\n",
       "      <td>37569.0</td>\n",
       "      <td>0</td>\n",
       "      <td>23.0</td>\n",
       "      <td>75</td>\n",
       "      <td>The Problem of Pain</td>\n",
       "      <td>9780006280934 \"In The Problem of Pain, C.S. Le...</td>\n",
       "    </tr>\n",
       "    <tr>\n",
       "      <th>7</th>\n",
       "      <td>9780006380832</td>\n",
       "      <td>0006380832</td>\n",
       "      <td>Empires of the Monsoon</td>\n",
       "      <td>A History of the Indian Ocean and Its Invaders</td>\n",
       "      <td>Richard Hall</td>\n",
       "      <td>Africa, East</td>\n",
       "      <td>http://books.google.com/books/content?id=MuPEQ...</td>\n",
       "      <td>Until Vasco da Gama discovered the sea-route t...</td>\n",
       "      <td>1998.0</td>\n",
       "      <td>4.41</td>\n",
       "      <td>608.0</td>\n",
       "      <td>65.0</td>\n",
       "      <td>0</td>\n",
       "      <td>27.0</td>\n",
       "      <td>80</td>\n",
       "      <td>Empires of the Monsoon: A History of the India...</td>\n",
       "      <td>9780006380832 Until Vasco da Gama discovered t...</td>\n",
       "    </tr>\n",
       "    <tr>\n",
       "      <th>9</th>\n",
       "      <td>9780006472612</td>\n",
       "      <td>0006472613</td>\n",
       "      <td>Master of the Game</td>\n",
       "      <td>NaN</td>\n",
       "      <td>Sidney Sheldon</td>\n",
       "      <td>Adventure stories</td>\n",
       "      <td>http://books.google.com/books/content?id=TkTYp...</td>\n",
       "      <td>Kate Blackwell is an enigma and one of the mos...</td>\n",
       "      <td>1982.0</td>\n",
       "      <td>4.11</td>\n",
       "      <td>489.0</td>\n",
       "      <td>43540.0</td>\n",
       "      <td>0</td>\n",
       "      <td>43.0</td>\n",
       "      <td>30</td>\n",
       "      <td>Master of the Game</td>\n",
       "      <td>9780006472612 Kate Blackwell is an enigma and ...</td>\n",
       "    </tr>\n",
       "  </tbody>\n",
       "</table>\n",
       "</div>"
      ],
      "text/plain": [
       "          isbn13      isbn10                   title  \\\n",
       "3  9780006178736  0006178731          Rage of angels   \n",
       "4  9780006280897  0006280897          The Four Loves   \n",
       "5  9780006280934  0006280935     The Problem of Pain   \n",
       "7  9780006380832  0006380832  Empires of the Monsoon   \n",
       "9  9780006472612  0006472613      Master of the Game   \n",
       "\n",
       "                                         subtitle              authors  \\\n",
       "3                                             NaN       Sidney Sheldon   \n",
       "4                                             NaN  Clive Staples Lewis   \n",
       "5                                             NaN  Clive Staples Lewis   \n",
       "7  A History of the Indian Ocean and Its Invaders         Richard Hall   \n",
       "9                                             NaN       Sidney Sheldon   \n",
       "\n",
       "          categories                                          thumbnail  \\\n",
       "3            Fiction  http://books.google.com/books/content?id=FKo2T...   \n",
       "4     Christian life  http://books.google.com/books/content?id=XhQ5X...   \n",
       "5     Christian life  http://books.google.com/books/content?id=Kk-uV...   \n",
       "7       Africa, East  http://books.google.com/books/content?id=MuPEQ...   \n",
       "9  Adventure stories  http://books.google.com/books/content?id=TkTYp...   \n",
       "\n",
       "                                         description  published_year  \\\n",
       "3  A memorable, mesmerizing heroine Jennifer -- b...          1993.0   \n",
       "4  Lewis' work on the nature of love divides love...          2002.0   \n",
       "5  \"In The Problem of Pain, C.S. Lewis, one of th...          2002.0   \n",
       "7  Until Vasco da Gama discovered the sea-route t...          1998.0   \n",
       "9  Kate Blackwell is an enigma and one of the mos...          1982.0   \n",
       "\n",
       "   average_rating  num_pages  ratings_count  missing_description  age_of_book  \\\n",
       "3            3.93      512.0        29532.0                    0         32.0   \n",
       "4            4.15      170.0        33684.0                    0         23.0   \n",
       "5            4.09      176.0        37569.0                    0         23.0   \n",
       "7            4.41      608.0           65.0                    0         27.0   \n",
       "9            4.11      489.0        43540.0                    0         43.0   \n",
       "\n",
       "   words_in_description                                 title_and_subtitle  \\\n",
       "3                    57                                     Rage of angels   \n",
       "4                    45                                     The Four Loves   \n",
       "5                    75                                The Problem of Pain   \n",
       "7                    80  Empires of the Monsoon: A History of the India...   \n",
       "9                    30                                 Master of the Game   \n",
       "\n",
       "                                  tagged_description  \n",
       "3  9780006178736 A memorable, mesmerizing heroine...  \n",
       "4  9780006280897 Lewis' work on the nature of lov...  \n",
       "5  9780006280934 \"In The Problem of Pain, C.S. Le...  \n",
       "7  9780006380832 Until Vasco da Gama discovered t...  \n",
       "9  9780006472612 Kate Blackwell is an enigma and ...  "
      ]
     },
     "execution_count": 25,
     "metadata": {},
     "output_type": "execute_result"
    }
   ],
   "source": [
    "df2.head()"
   ]
  },
  {
   "cell_type": "markdown",
   "id": "7f98ef30",
   "metadata": {},
   "source": [
    "Now that the dataset is ready, we can drop columns we don't need and save it."
   ]
  },
  {
   "cell_type": "code",
   "execution_count": 26,
   "id": "ff7d5783",
   "metadata": {},
   "outputs": [
    {
     "data": {
      "text/html": [
       "<div>\n",
       "<style scoped>\n",
       "    .dataframe tbody tr th:only-of-type {\n",
       "        vertical-align: middle;\n",
       "    }\n",
       "\n",
       "    .dataframe tbody tr th {\n",
       "        vertical-align: top;\n",
       "    }\n",
       "\n",
       "    .dataframe thead th {\n",
       "        text-align: right;\n",
       "    }\n",
       "</style>\n",
       "<table border=\"1\" class=\"dataframe\">\n",
       "  <thead>\n",
       "    <tr style=\"text-align: right;\">\n",
       "      <th></th>\n",
       "      <th>isbn13</th>\n",
       "      <th>isbn10</th>\n",
       "      <th>title</th>\n",
       "      <th>authors</th>\n",
       "      <th>categories</th>\n",
       "      <th>thumbnail</th>\n",
       "      <th>description</th>\n",
       "      <th>published_year</th>\n",
       "      <th>average_rating</th>\n",
       "      <th>num_pages</th>\n",
       "      <th>ratings_count</th>\n",
       "      <th>title_and_subtitle</th>\n",
       "      <th>tagged_description</th>\n",
       "    </tr>\n",
       "  </thead>\n",
       "  <tbody>\n",
       "    <tr>\n",
       "      <th>3</th>\n",
       "      <td>9780006178736</td>\n",
       "      <td>0006178731</td>\n",
       "      <td>Rage of angels</td>\n",
       "      <td>Sidney Sheldon</td>\n",
       "      <td>Fiction</td>\n",
       "      <td>http://books.google.com/books/content?id=FKo2T...</td>\n",
       "      <td>A memorable, mesmerizing heroine Jennifer -- b...</td>\n",
       "      <td>1993.0</td>\n",
       "      <td>3.93</td>\n",
       "      <td>512.0</td>\n",
       "      <td>29532.0</td>\n",
       "      <td>Rage of angels</td>\n",
       "      <td>9780006178736 A memorable, mesmerizing heroine...</td>\n",
       "    </tr>\n",
       "    <tr>\n",
       "      <th>4</th>\n",
       "      <td>9780006280897</td>\n",
       "      <td>0006280897</td>\n",
       "      <td>The Four Loves</td>\n",
       "      <td>Clive Staples Lewis</td>\n",
       "      <td>Christian life</td>\n",
       "      <td>http://books.google.com/books/content?id=XhQ5X...</td>\n",
       "      <td>Lewis' work on the nature of love divides love...</td>\n",
       "      <td>2002.0</td>\n",
       "      <td>4.15</td>\n",
       "      <td>170.0</td>\n",
       "      <td>33684.0</td>\n",
       "      <td>The Four Loves</td>\n",
       "      <td>9780006280897 Lewis' work on the nature of lov...</td>\n",
       "    </tr>\n",
       "    <tr>\n",
       "      <th>5</th>\n",
       "      <td>9780006280934</td>\n",
       "      <td>0006280935</td>\n",
       "      <td>The Problem of Pain</td>\n",
       "      <td>Clive Staples Lewis</td>\n",
       "      <td>Christian life</td>\n",
       "      <td>http://books.google.com/books/content?id=Kk-uV...</td>\n",
       "      <td>\"In The Problem of Pain, C.S. Lewis, one of th...</td>\n",
       "      <td>2002.0</td>\n",
       "      <td>4.09</td>\n",
       "      <td>176.0</td>\n",
       "      <td>37569.0</td>\n",
       "      <td>The Problem of Pain</td>\n",
       "      <td>9780006280934 \"In The Problem of Pain, C.S. Le...</td>\n",
       "    </tr>\n",
       "    <tr>\n",
       "      <th>7</th>\n",
       "      <td>9780006380832</td>\n",
       "      <td>0006380832</td>\n",
       "      <td>Empires of the Monsoon</td>\n",
       "      <td>Richard Hall</td>\n",
       "      <td>Africa, East</td>\n",
       "      <td>http://books.google.com/books/content?id=MuPEQ...</td>\n",
       "      <td>Until Vasco da Gama discovered the sea-route t...</td>\n",
       "      <td>1998.0</td>\n",
       "      <td>4.41</td>\n",
       "      <td>608.0</td>\n",
       "      <td>65.0</td>\n",
       "      <td>Empires of the Monsoon: A History of the India...</td>\n",
       "      <td>9780006380832 Until Vasco da Gama discovered t...</td>\n",
       "    </tr>\n",
       "    <tr>\n",
       "      <th>9</th>\n",
       "      <td>9780006472612</td>\n",
       "      <td>0006472613</td>\n",
       "      <td>Master of the Game</td>\n",
       "      <td>Sidney Sheldon</td>\n",
       "      <td>Adventure stories</td>\n",
       "      <td>http://books.google.com/books/content?id=TkTYp...</td>\n",
       "      <td>Kate Blackwell is an enigma and one of the mos...</td>\n",
       "      <td>1982.0</td>\n",
       "      <td>4.11</td>\n",
       "      <td>489.0</td>\n",
       "      <td>43540.0</td>\n",
       "      <td>Master of the Game</td>\n",
       "      <td>9780006472612 Kate Blackwell is an enigma and ...</td>\n",
       "    </tr>\n",
       "    <tr>\n",
       "      <th>...</th>\n",
       "      <td>...</td>\n",
       "      <td>...</td>\n",
       "      <td>...</td>\n",
       "      <td>...</td>\n",
       "      <td>...</td>\n",
       "      <td>...</td>\n",
       "      <td>...</td>\n",
       "      <td>...</td>\n",
       "      <td>...</td>\n",
       "      <td>...</td>\n",
       "      <td>...</td>\n",
       "      <td>...</td>\n",
       "      <td>...</td>\n",
       "    </tr>\n",
       "    <tr>\n",
       "      <th>6797</th>\n",
       "      <td>9784770028969</td>\n",
       "      <td>4770028962</td>\n",
       "      <td>Coin Locker Babies</td>\n",
       "      <td>村上龍</td>\n",
       "      <td>Fiction</td>\n",
       "      <td>http://books.google.com/books/content?id=87DJw...</td>\n",
       "      <td>Rescued from the lockers in which they were le...</td>\n",
       "      <td>2002.0</td>\n",
       "      <td>3.75</td>\n",
       "      <td>393.0</td>\n",
       "      <td>5560.0</td>\n",
       "      <td>Coin Locker Babies</td>\n",
       "      <td>9784770028969 Rescued from the lockers in whic...</td>\n",
       "    </tr>\n",
       "    <tr>\n",
       "      <th>6799</th>\n",
       "      <td>9788122200850</td>\n",
       "      <td>8122200850</td>\n",
       "      <td>Cry, the Peacock</td>\n",
       "      <td>Anita Desai</td>\n",
       "      <td>Fiction</td>\n",
       "      <td>http://books.google.com/books/content?id=_QKwV...</td>\n",
       "      <td>This book is the story of a young girl obsesse...</td>\n",
       "      <td>1980.0</td>\n",
       "      <td>3.22</td>\n",
       "      <td>218.0</td>\n",
       "      <td>134.0</td>\n",
       "      <td>Cry, the Peacock</td>\n",
       "      <td>9788122200850 This book is the story of a youn...</td>\n",
       "    </tr>\n",
       "    <tr>\n",
       "      <th>6800</th>\n",
       "      <td>9788125026600</td>\n",
       "      <td>8125026606</td>\n",
       "      <td>Nietzsche For Beginners</td>\n",
       "      <td>Marc Sautet</td>\n",
       "      <td>NaN</td>\n",
       "      <td>http://books.google.com/books/content?id=fPIv8...</td>\n",
       "      <td>Not only does Nietzsche for Beginners delve in...</td>\n",
       "      <td>2004.0</td>\n",
       "      <td>3.26</td>\n",
       "      <td>192.0</td>\n",
       "      <td>21.0</td>\n",
       "      <td>Nietzsche For Beginners</td>\n",
       "      <td>9788125026600 Not only does Nietzsche for Begi...</td>\n",
       "    </tr>\n",
       "    <tr>\n",
       "      <th>6801</th>\n",
       "      <td>9788171565641</td>\n",
       "      <td>8171565646</td>\n",
       "      <td>Aspects of the Novel</td>\n",
       "      <td>E. M. Forster</td>\n",
       "      <td>English fiction</td>\n",
       "      <td>http://books.google.com/books/content?id=qWU9P...</td>\n",
       "      <td>Forster's lively, informed originality and wit...</td>\n",
       "      <td>2004.0</td>\n",
       "      <td>3.83</td>\n",
       "      <td>141.0</td>\n",
       "      <td>10.0</td>\n",
       "      <td>Aspects of the Novel</td>\n",
       "      <td>9788171565641 Forster's lively, informed origi...</td>\n",
       "    </tr>\n",
       "    <tr>\n",
       "      <th>6803</th>\n",
       "      <td>9788173031014</td>\n",
       "      <td>8173031010</td>\n",
       "      <td>Journey to the East</td>\n",
       "      <td>Hermann Hesse</td>\n",
       "      <td>Adventure stories</td>\n",
       "      <td>http://books.google.com/books/content?id=rq6JP...</td>\n",
       "      <td>This book tells the tale of a man who goes on ...</td>\n",
       "      <td>2002.0</td>\n",
       "      <td>3.70</td>\n",
       "      <td>175.0</td>\n",
       "      <td>24.0</td>\n",
       "      <td>Journey to the East</td>\n",
       "      <td>9788173031014 This book tells the tale of a ma...</td>\n",
       "    </tr>\n",
       "  </tbody>\n",
       "</table>\n",
       "<p>3825 rows × 13 columns</p>\n",
       "</div>"
      ],
      "text/plain": [
       "             isbn13      isbn10                    title              authors  \\\n",
       "3     9780006178736  0006178731           Rage of angels       Sidney Sheldon   \n",
       "4     9780006280897  0006280897           The Four Loves  Clive Staples Lewis   \n",
       "5     9780006280934  0006280935      The Problem of Pain  Clive Staples Lewis   \n",
       "7     9780006380832  0006380832   Empires of the Monsoon         Richard Hall   \n",
       "9     9780006472612  0006472613       Master of the Game       Sidney Sheldon   \n",
       "...             ...         ...                      ...                  ...   \n",
       "6797  9784770028969  4770028962       Coin Locker Babies                  村上龍   \n",
       "6799  9788122200850  8122200850         Cry, the Peacock          Anita Desai   \n",
       "6800  9788125026600  8125026606  Nietzsche For Beginners          Marc Sautet   \n",
       "6801  9788171565641  8171565646     Aspects of the Novel        E. M. Forster   \n",
       "6803  9788173031014  8173031010      Journey to the East        Hermann Hesse   \n",
       "\n",
       "             categories                                          thumbnail  \\\n",
       "3               Fiction  http://books.google.com/books/content?id=FKo2T...   \n",
       "4        Christian life  http://books.google.com/books/content?id=XhQ5X...   \n",
       "5        Christian life  http://books.google.com/books/content?id=Kk-uV...   \n",
       "7          Africa, East  http://books.google.com/books/content?id=MuPEQ...   \n",
       "9     Adventure stories  http://books.google.com/books/content?id=TkTYp...   \n",
       "...                 ...                                                ...   \n",
       "6797            Fiction  http://books.google.com/books/content?id=87DJw...   \n",
       "6799            Fiction  http://books.google.com/books/content?id=_QKwV...   \n",
       "6800                NaN  http://books.google.com/books/content?id=fPIv8...   \n",
       "6801    English fiction  http://books.google.com/books/content?id=qWU9P...   \n",
       "6803  Adventure stories  http://books.google.com/books/content?id=rq6JP...   \n",
       "\n",
       "                                            description  published_year  \\\n",
       "3     A memorable, mesmerizing heroine Jennifer -- b...          1993.0   \n",
       "4     Lewis' work on the nature of love divides love...          2002.0   \n",
       "5     \"In The Problem of Pain, C.S. Lewis, one of th...          2002.0   \n",
       "7     Until Vasco da Gama discovered the sea-route t...          1998.0   \n",
       "9     Kate Blackwell is an enigma and one of the mos...          1982.0   \n",
       "...                                                 ...             ...   \n",
       "6797  Rescued from the lockers in which they were le...          2002.0   \n",
       "6799  This book is the story of a young girl obsesse...          1980.0   \n",
       "6800  Not only does Nietzsche for Beginners delve in...          2004.0   \n",
       "6801  Forster's lively, informed originality and wit...          2004.0   \n",
       "6803  This book tells the tale of a man who goes on ...          2002.0   \n",
       "\n",
       "      average_rating  num_pages  ratings_count  \\\n",
       "3               3.93      512.0        29532.0   \n",
       "4               4.15      170.0        33684.0   \n",
       "5               4.09      176.0        37569.0   \n",
       "7               4.41      608.0           65.0   \n",
       "9               4.11      489.0        43540.0   \n",
       "...              ...        ...            ...   \n",
       "6797            3.75      393.0         5560.0   \n",
       "6799            3.22      218.0          134.0   \n",
       "6800            3.26      192.0           21.0   \n",
       "6801            3.83      141.0           10.0   \n",
       "6803            3.70      175.0           24.0   \n",
       "\n",
       "                                     title_and_subtitle  \\\n",
       "3                                        Rage of angels   \n",
       "4                                        The Four Loves   \n",
       "5                                   The Problem of Pain   \n",
       "7     Empires of the Monsoon: A History of the India...   \n",
       "9                                    Master of the Game   \n",
       "...                                                 ...   \n",
       "6797                                 Coin Locker Babies   \n",
       "6799                                   Cry, the Peacock   \n",
       "6800                            Nietzsche For Beginners   \n",
       "6801                               Aspects of the Novel   \n",
       "6803                                Journey to the East   \n",
       "\n",
       "                                     tagged_description  \n",
       "3     9780006178736 A memorable, mesmerizing heroine...  \n",
       "4     9780006280897 Lewis' work on the nature of lov...  \n",
       "5     9780006280934 \"In The Problem of Pain, C.S. Le...  \n",
       "7     9780006380832 Until Vasco da Gama discovered t...  \n",
       "9     9780006472612 Kate Blackwell is an enigma and ...  \n",
       "...                                                 ...  \n",
       "6797  9784770028969 Rescued from the lockers in whic...  \n",
       "6799  9788122200850 This book is the story of a youn...  \n",
       "6800  9788125026600 Not only does Nietzsche for Begi...  \n",
       "6801  9788171565641 Forster's lively, informed origi...  \n",
       "6803  9788173031014 This book tells the tale of a ma...  \n",
       "\n",
       "[3825 rows x 13 columns]"
      ]
     },
     "execution_count": 26,
     "metadata": {},
     "output_type": "execute_result"
    }
   ],
   "source": [
    "df2.drop([\n",
    "    \"subtitle\",\n",
    "    \"missing_description\",\n",
    "    \"age_of_book\",\n",
    "    \"words_in_description\"\n",
    "],axis=1)"
   ]
  },
  {
   "cell_type": "code",
   "execution_count": 27,
   "id": "0e1971b4",
   "metadata": {},
   "outputs": [],
   "source": [
    "df2.to_csv('../data/cleaned_data_v2.csv',index=False)"
   ]
  }
 ],
 "metadata": {
  "kernelspec": {
   "display_name": "semantic_book_recommender-l1UIAdvL",
   "language": "python",
   "name": "python3"
  },
  "language_info": {
   "codemirror_mode": {
    "name": "ipython",
    "version": 3
   },
   "file_extension": ".py",
   "mimetype": "text/x-python",
   "name": "python",
   "nbconvert_exporter": "python",
   "pygments_lexer": "ipython3",
   "version": "3.10.0"
  }
 },
 "nbformat": 4,
 "nbformat_minor": 5
}
